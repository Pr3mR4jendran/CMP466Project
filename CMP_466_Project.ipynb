{
  "cells": [
    {
      "cell_type": "code",
      "execution_count": null,
      "metadata": {
        "id": "tSGWLDeHFjPD"
      },
      "outputs": [],
      "source": [
        "import matplotlib.pyplot as plt\n",
        "import numpy as np\n",
        "import pandas as pd\n",
        "import seaborn as sns"
      ]
    },
    {
      "cell_type": "code",
      "execution_count": null,
      "metadata": {
        "id": "XT7Oaz5vIAX0",
        "colab": {
          "base_uri": "https://localhost:8080/"
        },
        "outputId": "a5283a45-3247-4696-c279-f405f329566e"
      },
      "outputs": [
        {
          "output_type": "stream",
          "name": "stdout",
          "text": [
            "Drive already mounted at /content/drive; to attempt to forcibly remount, call drive.mount(\"/content/drive\", force_remount=True).\n"
          ]
        }
      ],
      "source": [
        "from google.colab import drive\n",
        "drive.mount('/content/drive')"
      ]
    },
    {
      "cell_type": "code",
      "execution_count": null,
      "metadata": {
        "id": "EOmZT6eyQzLm"
      },
      "outputs": [],
      "source": [
        "data_categorical = pd.read_csv('/content/drive/MyDrive/Training.csv', dtype=\"category\")\n",
        "data = pd.read_csv('/content/drive/MyDrive/Training.csv')"
      ]
    },
    {
      "cell_type": "markdown",
      "metadata": {
        "id": "xNQkzDrWXncx"
      },
      "source": [
        "# **DATA VISUALIZATION**"
      ]
    },
    {
      "cell_type": "code",
      "execution_count": null,
      "metadata": {
        "colab": {
          "base_uri": "https://localhost:8080/"
        },
        "id": "8U8JewCmJ1I7",
        "outputId": "cea8a0ba-608b-4897-bc6b-7941a29c0f43"
      },
      "outputs": [
        {
          "output_type": "stream",
          "name": "stdout",
          "text": [
            "Data Shape:  (824579, 10)\n"
          ]
        }
      ],
      "source": [
        "print(\"Data Shape: \", data.shape)"
      ]
    },
    {
      "cell_type": "code",
      "execution_count": null,
      "metadata": {
        "colab": {
          "base_uri": "https://localhost:8080/",
          "height": 504
        },
        "id": "9i4CcS85KAVW",
        "outputId": "a58180dc-8e61-47b5-ffca-cb4c8df0d0cb"
      },
      "outputs": [
        {
          "output_type": "execute_result",
          "data": {
            "text/plain": [
              "         test_date  cough  fever  sore_throat  shortness_of_breath  head_ache  \\\n",
              "0       02/11/2020      0      0            0                    0          0   \n",
              "1       08/11/2020      0      0            0                    0          0   \n",
              "2       06/10/2020      0      0            0                    0          0   \n",
              "3       13/09/2020      0      0            0                    0          0   \n",
              "4       23/09/2020      0      0            0                    0          0   \n",
              "...            ...    ...    ...          ...                  ...        ...   \n",
              "824574  23/09/2020      0      0            0                    0          0   \n",
              "824575  14/09/2020      0      0            0                    0          0   \n",
              "824576  25/09/2020      0      0            0                    0          1   \n",
              "824577  29/09/2020      0      0            0                    0          0   \n",
              "824578  21/09/2020      0      0            0                    0          0   \n",
              "\n",
              "       age_60_and_above  gender         test_indication  corona_result  \n",
              "0                     0    male                   Other              0  \n",
              "1                     0    male                   Other              0  \n",
              "2                     0  female                   Other              0  \n",
              "3                     0    male                   Other              0  \n",
              "4                     0    male                   Other              0  \n",
              "...                 ...     ...                     ...            ...  \n",
              "824574                0  female                   Other              1  \n",
              "824575                0  female                   Other              1  \n",
              "824576                0    male                   Other              1  \n",
              "824577                0    male  Contact with confirmed              1  \n",
              "824578                0  female                   Other              1  \n",
              "\n",
              "[824579 rows x 10 columns]"
            ],
            "text/html": [
              "\n",
              "  <div id=\"df-7d2ed99e-daa5-459b-8ba8-44d0c30641b2\">\n",
              "    <div class=\"colab-df-container\">\n",
              "      <div>\n",
              "<style scoped>\n",
              "    .dataframe tbody tr th:only-of-type {\n",
              "        vertical-align: middle;\n",
              "    }\n",
              "\n",
              "    .dataframe tbody tr th {\n",
              "        vertical-align: top;\n",
              "    }\n",
              "\n",
              "    .dataframe thead th {\n",
              "        text-align: right;\n",
              "    }\n",
              "</style>\n",
              "<table border=\"1\" class=\"dataframe\">\n",
              "  <thead>\n",
              "    <tr style=\"text-align: right;\">\n",
              "      <th></th>\n",
              "      <th>test_date</th>\n",
              "      <th>cough</th>\n",
              "      <th>fever</th>\n",
              "      <th>sore_throat</th>\n",
              "      <th>shortness_of_breath</th>\n",
              "      <th>head_ache</th>\n",
              "      <th>age_60_and_above</th>\n",
              "      <th>gender</th>\n",
              "      <th>test_indication</th>\n",
              "      <th>corona_result</th>\n",
              "    </tr>\n",
              "  </thead>\n",
              "  <tbody>\n",
              "    <tr>\n",
              "      <th>0</th>\n",
              "      <td>02/11/2020</td>\n",
              "      <td>0</td>\n",
              "      <td>0</td>\n",
              "      <td>0</td>\n",
              "      <td>0</td>\n",
              "      <td>0</td>\n",
              "      <td>0</td>\n",
              "      <td>male</td>\n",
              "      <td>Other</td>\n",
              "      <td>0</td>\n",
              "    </tr>\n",
              "    <tr>\n",
              "      <th>1</th>\n",
              "      <td>08/11/2020</td>\n",
              "      <td>0</td>\n",
              "      <td>0</td>\n",
              "      <td>0</td>\n",
              "      <td>0</td>\n",
              "      <td>0</td>\n",
              "      <td>0</td>\n",
              "      <td>male</td>\n",
              "      <td>Other</td>\n",
              "      <td>0</td>\n",
              "    </tr>\n",
              "    <tr>\n",
              "      <th>2</th>\n",
              "      <td>06/10/2020</td>\n",
              "      <td>0</td>\n",
              "      <td>0</td>\n",
              "      <td>0</td>\n",
              "      <td>0</td>\n",
              "      <td>0</td>\n",
              "      <td>0</td>\n",
              "      <td>female</td>\n",
              "      <td>Other</td>\n",
              "      <td>0</td>\n",
              "    </tr>\n",
              "    <tr>\n",
              "      <th>3</th>\n",
              "      <td>13/09/2020</td>\n",
              "      <td>0</td>\n",
              "      <td>0</td>\n",
              "      <td>0</td>\n",
              "      <td>0</td>\n",
              "      <td>0</td>\n",
              "      <td>0</td>\n",
              "      <td>male</td>\n",
              "      <td>Other</td>\n",
              "      <td>0</td>\n",
              "    </tr>\n",
              "    <tr>\n",
              "      <th>4</th>\n",
              "      <td>23/09/2020</td>\n",
              "      <td>0</td>\n",
              "      <td>0</td>\n",
              "      <td>0</td>\n",
              "      <td>0</td>\n",
              "      <td>0</td>\n",
              "      <td>0</td>\n",
              "      <td>male</td>\n",
              "      <td>Other</td>\n",
              "      <td>0</td>\n",
              "    </tr>\n",
              "    <tr>\n",
              "      <th>...</th>\n",
              "      <td>...</td>\n",
              "      <td>...</td>\n",
              "      <td>...</td>\n",
              "      <td>...</td>\n",
              "      <td>...</td>\n",
              "      <td>...</td>\n",
              "      <td>...</td>\n",
              "      <td>...</td>\n",
              "      <td>...</td>\n",
              "      <td>...</td>\n",
              "    </tr>\n",
              "    <tr>\n",
              "      <th>824574</th>\n",
              "      <td>23/09/2020</td>\n",
              "      <td>0</td>\n",
              "      <td>0</td>\n",
              "      <td>0</td>\n",
              "      <td>0</td>\n",
              "      <td>0</td>\n",
              "      <td>0</td>\n",
              "      <td>female</td>\n",
              "      <td>Other</td>\n",
              "      <td>1</td>\n",
              "    </tr>\n",
              "    <tr>\n",
              "      <th>824575</th>\n",
              "      <td>14/09/2020</td>\n",
              "      <td>0</td>\n",
              "      <td>0</td>\n",
              "      <td>0</td>\n",
              "      <td>0</td>\n",
              "      <td>0</td>\n",
              "      <td>0</td>\n",
              "      <td>female</td>\n",
              "      <td>Other</td>\n",
              "      <td>1</td>\n",
              "    </tr>\n",
              "    <tr>\n",
              "      <th>824576</th>\n",
              "      <td>25/09/2020</td>\n",
              "      <td>0</td>\n",
              "      <td>0</td>\n",
              "      <td>0</td>\n",
              "      <td>0</td>\n",
              "      <td>1</td>\n",
              "      <td>0</td>\n",
              "      <td>male</td>\n",
              "      <td>Other</td>\n",
              "      <td>1</td>\n",
              "    </tr>\n",
              "    <tr>\n",
              "      <th>824577</th>\n",
              "      <td>29/09/2020</td>\n",
              "      <td>0</td>\n",
              "      <td>0</td>\n",
              "      <td>0</td>\n",
              "      <td>0</td>\n",
              "      <td>0</td>\n",
              "      <td>0</td>\n",
              "      <td>male</td>\n",
              "      <td>Contact with confirmed</td>\n",
              "      <td>1</td>\n",
              "    </tr>\n",
              "    <tr>\n",
              "      <th>824578</th>\n",
              "      <td>21/09/2020</td>\n",
              "      <td>0</td>\n",
              "      <td>0</td>\n",
              "      <td>0</td>\n",
              "      <td>0</td>\n",
              "      <td>0</td>\n",
              "      <td>0</td>\n",
              "      <td>female</td>\n",
              "      <td>Other</td>\n",
              "      <td>1</td>\n",
              "    </tr>\n",
              "  </tbody>\n",
              "</table>\n",
              "<p>824579 rows × 10 columns</p>\n",
              "</div>\n",
              "      <button class=\"colab-df-convert\" onclick=\"convertToInteractive('df-7d2ed99e-daa5-459b-8ba8-44d0c30641b2')\"\n",
              "              title=\"Convert this dataframe to an interactive table.\"\n",
              "              style=\"display:none;\">\n",
              "        \n",
              "  <svg xmlns=\"http://www.w3.org/2000/svg\" height=\"24px\"viewBox=\"0 0 24 24\"\n",
              "       width=\"24px\">\n",
              "    <path d=\"M0 0h24v24H0V0z\" fill=\"none\"/>\n",
              "    <path d=\"M18.56 5.44l.94 2.06.94-2.06 2.06-.94-2.06-.94-.94-2.06-.94 2.06-2.06.94zm-11 1L8.5 8.5l.94-2.06 2.06-.94-2.06-.94L8.5 2.5l-.94 2.06-2.06.94zm10 10l.94 2.06.94-2.06 2.06-.94-2.06-.94-.94-2.06-.94 2.06-2.06.94z\"/><path d=\"M17.41 7.96l-1.37-1.37c-.4-.4-.92-.59-1.43-.59-.52 0-1.04.2-1.43.59L10.3 9.45l-7.72 7.72c-.78.78-.78 2.05 0 2.83L4 21.41c.39.39.9.59 1.41.59.51 0 1.02-.2 1.41-.59l7.78-7.78 2.81-2.81c.8-.78.8-2.07 0-2.86zM5.41 20L4 18.59l7.72-7.72 1.47 1.35L5.41 20z\"/>\n",
              "  </svg>\n",
              "      </button>\n",
              "      \n",
              "  <style>\n",
              "    .colab-df-container {\n",
              "      display:flex;\n",
              "      flex-wrap:wrap;\n",
              "      gap: 12px;\n",
              "    }\n",
              "\n",
              "    .colab-df-convert {\n",
              "      background-color: #E8F0FE;\n",
              "      border: none;\n",
              "      border-radius: 50%;\n",
              "      cursor: pointer;\n",
              "      display: none;\n",
              "      fill: #1967D2;\n",
              "      height: 32px;\n",
              "      padding: 0 0 0 0;\n",
              "      width: 32px;\n",
              "    }\n",
              "\n",
              "    .colab-df-convert:hover {\n",
              "      background-color: #E2EBFA;\n",
              "      box-shadow: 0px 1px 2px rgba(60, 64, 67, 0.3), 0px 1px 3px 1px rgba(60, 64, 67, 0.15);\n",
              "      fill: #174EA6;\n",
              "    }\n",
              "\n",
              "    [theme=dark] .colab-df-convert {\n",
              "      background-color: #3B4455;\n",
              "      fill: #D2E3FC;\n",
              "    }\n",
              "\n",
              "    [theme=dark] .colab-df-convert:hover {\n",
              "      background-color: #434B5C;\n",
              "      box-shadow: 0px 1px 3px 1px rgba(0, 0, 0, 0.15);\n",
              "      filter: drop-shadow(0px 1px 2px rgba(0, 0, 0, 0.3));\n",
              "      fill: #FFFFFF;\n",
              "    }\n",
              "  </style>\n",
              "\n",
              "      <script>\n",
              "        const buttonEl =\n",
              "          document.querySelector('#df-7d2ed99e-daa5-459b-8ba8-44d0c30641b2 button.colab-df-convert');\n",
              "        buttonEl.style.display =\n",
              "          google.colab.kernel.accessAllowed ? 'block' : 'none';\n",
              "\n",
              "        async function convertToInteractive(key) {\n",
              "          const element = document.querySelector('#df-7d2ed99e-daa5-459b-8ba8-44d0c30641b2');\n",
              "          const dataTable =\n",
              "            await google.colab.kernel.invokeFunction('convertToInteractive',\n",
              "                                                     [key], {});\n",
              "          if (!dataTable) return;\n",
              "\n",
              "          const docLinkHtml = 'Like what you see? Visit the ' +\n",
              "            '<a target=\"_blank\" href=https://colab.research.google.com/notebooks/data_table.ipynb>data table notebook</a>'\n",
              "            + ' to learn more about interactive tables.';\n",
              "          element.innerHTML = '';\n",
              "          dataTable['output_type'] = 'display_data';\n",
              "          await google.colab.output.renderOutput(dataTable, element);\n",
              "          const docLink = document.createElement('div');\n",
              "          docLink.innerHTML = docLinkHtml;\n",
              "          element.appendChild(docLink);\n",
              "        }\n",
              "      </script>\n",
              "    </div>\n",
              "  </div>\n",
              "  "
            ]
          },
          "metadata": {},
          "execution_count": 5
        }
      ],
      "source": [
        "data"
      ]
    },
    {
      "cell_type": "code",
      "execution_count": null,
      "metadata": {
        "colab": {
          "base_uri": "https://localhost:8080/"
        },
        "id": "t3MaPFS7M7GA",
        "outputId": "05aab6b1-4ba8-4881-c1ff-65e9b9e58715"
      },
      "outputs": [
        {
          "output_type": "stream",
          "name": "stdout",
          "text": [
            "Number of null values in the dataset:\n",
            "test_date                 0\n",
            "cough                     0\n",
            "fever                     0\n",
            "sore_throat               0\n",
            "shortness_of_breath       0\n",
            "head_ache                 0\n",
            "age_60_and_above          0\n",
            "gender                 2101\n",
            "test_indication           0\n",
            "corona_result             0\n",
            "dtype: int64\n"
          ]
        }
      ],
      "source": [
        "print(\"Number of null values in the dataset:\", data.isnull().sum(), sep=\"\\n\")"
      ]
    },
    {
      "cell_type": "code",
      "execution_count": null,
      "metadata": {
        "colab": {
          "base_uri": "https://localhost:8080/",
          "height": 257
        },
        "id": "6kmf-Oe2NiT0",
        "outputId": "b66917c8-9585-44f7-bc54-8417cee0164e"
      },
      "outputs": [
        {
          "output_type": "stream",
          "name": "stdout",
          "text": [
            "Description of dataset:\n"
          ]
        },
        {
          "output_type": "execute_result",
          "data": {
            "text/plain": [
              "         test_date   cough   fever sore_throat shortness_of_breath head_ache  \\\n",
              "count       824579  824579  824579      824579              824579    824579   \n",
              "unique          64       2       2           2                   2         2   \n",
              "top     17/09/2020       0       0           0                   0         0   \n",
              "freq         28558  802537  802182      817206              822363    809040   \n",
              "\n",
              "       age_60_and_above  gender test_indication corona_result  \n",
              "count            824579  822478          824579        824579  \n",
              "unique                3       2               3             2  \n",
              "top                   0  female           Other             0  \n",
              "freq             679302  422583          771313        740232  "
            ],
            "text/html": [
              "\n",
              "  <div id=\"df-9fc5c3c9-b120-45cb-a94c-a7eeb9d2e87c\">\n",
              "    <div class=\"colab-df-container\">\n",
              "      <div>\n",
              "<style scoped>\n",
              "    .dataframe tbody tr th:only-of-type {\n",
              "        vertical-align: middle;\n",
              "    }\n",
              "\n",
              "    .dataframe tbody tr th {\n",
              "        vertical-align: top;\n",
              "    }\n",
              "\n",
              "    .dataframe thead th {\n",
              "        text-align: right;\n",
              "    }\n",
              "</style>\n",
              "<table border=\"1\" class=\"dataframe\">\n",
              "  <thead>\n",
              "    <tr style=\"text-align: right;\">\n",
              "      <th></th>\n",
              "      <th>test_date</th>\n",
              "      <th>cough</th>\n",
              "      <th>fever</th>\n",
              "      <th>sore_throat</th>\n",
              "      <th>shortness_of_breath</th>\n",
              "      <th>head_ache</th>\n",
              "      <th>age_60_and_above</th>\n",
              "      <th>gender</th>\n",
              "      <th>test_indication</th>\n",
              "      <th>corona_result</th>\n",
              "    </tr>\n",
              "  </thead>\n",
              "  <tbody>\n",
              "    <tr>\n",
              "      <th>count</th>\n",
              "      <td>824579</td>\n",
              "      <td>824579</td>\n",
              "      <td>824579</td>\n",
              "      <td>824579</td>\n",
              "      <td>824579</td>\n",
              "      <td>824579</td>\n",
              "      <td>824579</td>\n",
              "      <td>822478</td>\n",
              "      <td>824579</td>\n",
              "      <td>824579</td>\n",
              "    </tr>\n",
              "    <tr>\n",
              "      <th>unique</th>\n",
              "      <td>64</td>\n",
              "      <td>2</td>\n",
              "      <td>2</td>\n",
              "      <td>2</td>\n",
              "      <td>2</td>\n",
              "      <td>2</td>\n",
              "      <td>3</td>\n",
              "      <td>2</td>\n",
              "      <td>3</td>\n",
              "      <td>2</td>\n",
              "    </tr>\n",
              "    <tr>\n",
              "      <th>top</th>\n",
              "      <td>17/09/2020</td>\n",
              "      <td>0</td>\n",
              "      <td>0</td>\n",
              "      <td>0</td>\n",
              "      <td>0</td>\n",
              "      <td>0</td>\n",
              "      <td>0</td>\n",
              "      <td>female</td>\n",
              "      <td>Other</td>\n",
              "      <td>0</td>\n",
              "    </tr>\n",
              "    <tr>\n",
              "      <th>freq</th>\n",
              "      <td>28558</td>\n",
              "      <td>802537</td>\n",
              "      <td>802182</td>\n",
              "      <td>817206</td>\n",
              "      <td>822363</td>\n",
              "      <td>809040</td>\n",
              "      <td>679302</td>\n",
              "      <td>422583</td>\n",
              "      <td>771313</td>\n",
              "      <td>740232</td>\n",
              "    </tr>\n",
              "  </tbody>\n",
              "</table>\n",
              "</div>\n",
              "      <button class=\"colab-df-convert\" onclick=\"convertToInteractive('df-9fc5c3c9-b120-45cb-a94c-a7eeb9d2e87c')\"\n",
              "              title=\"Convert this dataframe to an interactive table.\"\n",
              "              style=\"display:none;\">\n",
              "        \n",
              "  <svg xmlns=\"http://www.w3.org/2000/svg\" height=\"24px\"viewBox=\"0 0 24 24\"\n",
              "       width=\"24px\">\n",
              "    <path d=\"M0 0h24v24H0V0z\" fill=\"none\"/>\n",
              "    <path d=\"M18.56 5.44l.94 2.06.94-2.06 2.06-.94-2.06-.94-.94-2.06-.94 2.06-2.06.94zm-11 1L8.5 8.5l.94-2.06 2.06-.94-2.06-.94L8.5 2.5l-.94 2.06-2.06.94zm10 10l.94 2.06.94-2.06 2.06-.94-2.06-.94-.94-2.06-.94 2.06-2.06.94z\"/><path d=\"M17.41 7.96l-1.37-1.37c-.4-.4-.92-.59-1.43-.59-.52 0-1.04.2-1.43.59L10.3 9.45l-7.72 7.72c-.78.78-.78 2.05 0 2.83L4 21.41c.39.39.9.59 1.41.59.51 0 1.02-.2 1.41-.59l7.78-7.78 2.81-2.81c.8-.78.8-2.07 0-2.86zM5.41 20L4 18.59l7.72-7.72 1.47 1.35L5.41 20z\"/>\n",
              "  </svg>\n",
              "      </button>\n",
              "      \n",
              "  <style>\n",
              "    .colab-df-container {\n",
              "      display:flex;\n",
              "      flex-wrap:wrap;\n",
              "      gap: 12px;\n",
              "    }\n",
              "\n",
              "    .colab-df-convert {\n",
              "      background-color: #E8F0FE;\n",
              "      border: none;\n",
              "      border-radius: 50%;\n",
              "      cursor: pointer;\n",
              "      display: none;\n",
              "      fill: #1967D2;\n",
              "      height: 32px;\n",
              "      padding: 0 0 0 0;\n",
              "      width: 32px;\n",
              "    }\n",
              "\n",
              "    .colab-df-convert:hover {\n",
              "      background-color: #E2EBFA;\n",
              "      box-shadow: 0px 1px 2px rgba(60, 64, 67, 0.3), 0px 1px 3px 1px rgba(60, 64, 67, 0.15);\n",
              "      fill: #174EA6;\n",
              "    }\n",
              "\n",
              "    [theme=dark] .colab-df-convert {\n",
              "      background-color: #3B4455;\n",
              "      fill: #D2E3FC;\n",
              "    }\n",
              "\n",
              "    [theme=dark] .colab-df-convert:hover {\n",
              "      background-color: #434B5C;\n",
              "      box-shadow: 0px 1px 3px 1px rgba(0, 0, 0, 0.15);\n",
              "      filter: drop-shadow(0px 1px 2px rgba(0, 0, 0, 0.3));\n",
              "      fill: #FFFFFF;\n",
              "    }\n",
              "  </style>\n",
              "\n",
              "      <script>\n",
              "        const buttonEl =\n",
              "          document.querySelector('#df-9fc5c3c9-b120-45cb-a94c-a7eeb9d2e87c button.colab-df-convert');\n",
              "        buttonEl.style.display =\n",
              "          google.colab.kernel.accessAllowed ? 'block' : 'none';\n",
              "\n",
              "        async function convertToInteractive(key) {\n",
              "          const element = document.querySelector('#df-9fc5c3c9-b120-45cb-a94c-a7eeb9d2e87c');\n",
              "          const dataTable =\n",
              "            await google.colab.kernel.invokeFunction('convertToInteractive',\n",
              "                                                     [key], {});\n",
              "          if (!dataTable) return;\n",
              "\n",
              "          const docLinkHtml = 'Like what you see? Visit the ' +\n",
              "            '<a target=\"_blank\" href=https://colab.research.google.com/notebooks/data_table.ipynb>data table notebook</a>'\n",
              "            + ' to learn more about interactive tables.';\n",
              "          element.innerHTML = '';\n",
              "          dataTable['output_type'] = 'display_data';\n",
              "          await google.colab.output.renderOutput(dataTable, element);\n",
              "          const docLink = document.createElement('div');\n",
              "          docLink.innerHTML = docLinkHtml;\n",
              "          element.appendChild(docLink);\n",
              "        }\n",
              "      </script>\n",
              "    </div>\n",
              "  </div>\n",
              "  "
            ]
          },
          "metadata": {},
          "execution_count": 7
        }
      ],
      "source": [
        "print(\"Description of dataset:\")\n",
        "data_categorical.describe()"
      ]
    },
    {
      "cell_type": "code",
      "execution_count": null,
      "metadata": {
        "colab": {
          "base_uri": "https://localhost:8080/",
          "height": 270
        },
        "id": "GFFv_ANYQMXy",
        "outputId": "f494064c-a3bb-4e72-841f-fe749d43ac78"
      },
      "outputs": [
        {
          "output_type": "execute_result",
          "data": {
            "text/plain": [
              "    test_date  cough  fever  sore_throat  shortness_of_breath  head_ache  \\\n",
              "0  02/11/2020      0      0            0                    0          0   \n",
              "1  08/11/2020      0      0            0                    0          0   \n",
              "2  06/10/2020      0      0            0                    0          0   \n",
              "3  13/09/2020      0      0            0                    0          0   \n",
              "4  23/09/2020      0      0            0                    0          0   \n",
              "\n",
              "  age_60_and_above  gender test_indication  corona_result  \n",
              "0                0    male           Other              0  \n",
              "1                0    male           Other              0  \n",
              "2                0  female           Other              0  \n",
              "3                0    male           Other              0  \n",
              "4                0    male           Other              0  "
            ],
            "text/html": [
              "\n",
              "  <div id=\"df-b7807fa5-d0d8-48ad-b493-0d4aaec5388e\">\n",
              "    <div class=\"colab-df-container\">\n",
              "      <div>\n",
              "<style scoped>\n",
              "    .dataframe tbody tr th:only-of-type {\n",
              "        vertical-align: middle;\n",
              "    }\n",
              "\n",
              "    .dataframe tbody tr th {\n",
              "        vertical-align: top;\n",
              "    }\n",
              "\n",
              "    .dataframe thead th {\n",
              "        text-align: right;\n",
              "    }\n",
              "</style>\n",
              "<table border=\"1\" class=\"dataframe\">\n",
              "  <thead>\n",
              "    <tr style=\"text-align: right;\">\n",
              "      <th></th>\n",
              "      <th>test_date</th>\n",
              "      <th>cough</th>\n",
              "      <th>fever</th>\n",
              "      <th>sore_throat</th>\n",
              "      <th>shortness_of_breath</th>\n",
              "      <th>head_ache</th>\n",
              "      <th>age_60_and_above</th>\n",
              "      <th>gender</th>\n",
              "      <th>test_indication</th>\n",
              "      <th>corona_result</th>\n",
              "    </tr>\n",
              "  </thead>\n",
              "  <tbody>\n",
              "    <tr>\n",
              "      <th>0</th>\n",
              "      <td>02/11/2020</td>\n",
              "      <td>0</td>\n",
              "      <td>0</td>\n",
              "      <td>0</td>\n",
              "      <td>0</td>\n",
              "      <td>0</td>\n",
              "      <td>0</td>\n",
              "      <td>male</td>\n",
              "      <td>Other</td>\n",
              "      <td>0</td>\n",
              "    </tr>\n",
              "    <tr>\n",
              "      <th>1</th>\n",
              "      <td>08/11/2020</td>\n",
              "      <td>0</td>\n",
              "      <td>0</td>\n",
              "      <td>0</td>\n",
              "      <td>0</td>\n",
              "      <td>0</td>\n",
              "      <td>0</td>\n",
              "      <td>male</td>\n",
              "      <td>Other</td>\n",
              "      <td>0</td>\n",
              "    </tr>\n",
              "    <tr>\n",
              "      <th>2</th>\n",
              "      <td>06/10/2020</td>\n",
              "      <td>0</td>\n",
              "      <td>0</td>\n",
              "      <td>0</td>\n",
              "      <td>0</td>\n",
              "      <td>0</td>\n",
              "      <td>0</td>\n",
              "      <td>female</td>\n",
              "      <td>Other</td>\n",
              "      <td>0</td>\n",
              "    </tr>\n",
              "    <tr>\n",
              "      <th>3</th>\n",
              "      <td>13/09/2020</td>\n",
              "      <td>0</td>\n",
              "      <td>0</td>\n",
              "      <td>0</td>\n",
              "      <td>0</td>\n",
              "      <td>0</td>\n",
              "      <td>0</td>\n",
              "      <td>male</td>\n",
              "      <td>Other</td>\n",
              "      <td>0</td>\n",
              "    </tr>\n",
              "    <tr>\n",
              "      <th>4</th>\n",
              "      <td>23/09/2020</td>\n",
              "      <td>0</td>\n",
              "      <td>0</td>\n",
              "      <td>0</td>\n",
              "      <td>0</td>\n",
              "      <td>0</td>\n",
              "      <td>0</td>\n",
              "      <td>male</td>\n",
              "      <td>Other</td>\n",
              "      <td>0</td>\n",
              "    </tr>\n",
              "  </tbody>\n",
              "</table>\n",
              "</div>\n",
              "      <button class=\"colab-df-convert\" onclick=\"convertToInteractive('df-b7807fa5-d0d8-48ad-b493-0d4aaec5388e')\"\n",
              "              title=\"Convert this dataframe to an interactive table.\"\n",
              "              style=\"display:none;\">\n",
              "        \n",
              "  <svg xmlns=\"http://www.w3.org/2000/svg\" height=\"24px\"viewBox=\"0 0 24 24\"\n",
              "       width=\"24px\">\n",
              "    <path d=\"M0 0h24v24H0V0z\" fill=\"none\"/>\n",
              "    <path d=\"M18.56 5.44l.94 2.06.94-2.06 2.06-.94-2.06-.94-.94-2.06-.94 2.06-2.06.94zm-11 1L8.5 8.5l.94-2.06 2.06-.94-2.06-.94L8.5 2.5l-.94 2.06-2.06.94zm10 10l.94 2.06.94-2.06 2.06-.94-2.06-.94-.94-2.06-.94 2.06-2.06.94z\"/><path d=\"M17.41 7.96l-1.37-1.37c-.4-.4-.92-.59-1.43-.59-.52 0-1.04.2-1.43.59L10.3 9.45l-7.72 7.72c-.78.78-.78 2.05 0 2.83L4 21.41c.39.39.9.59 1.41.59.51 0 1.02-.2 1.41-.59l7.78-7.78 2.81-2.81c.8-.78.8-2.07 0-2.86zM5.41 20L4 18.59l7.72-7.72 1.47 1.35L5.41 20z\"/>\n",
              "  </svg>\n",
              "      </button>\n",
              "      \n",
              "  <style>\n",
              "    .colab-df-container {\n",
              "      display:flex;\n",
              "      flex-wrap:wrap;\n",
              "      gap: 12px;\n",
              "    }\n",
              "\n",
              "    .colab-df-convert {\n",
              "      background-color: #E8F0FE;\n",
              "      border: none;\n",
              "      border-radius: 50%;\n",
              "      cursor: pointer;\n",
              "      display: none;\n",
              "      fill: #1967D2;\n",
              "      height: 32px;\n",
              "      padding: 0 0 0 0;\n",
              "      width: 32px;\n",
              "    }\n",
              "\n",
              "    .colab-df-convert:hover {\n",
              "      background-color: #E2EBFA;\n",
              "      box-shadow: 0px 1px 2px rgba(60, 64, 67, 0.3), 0px 1px 3px 1px rgba(60, 64, 67, 0.15);\n",
              "      fill: #174EA6;\n",
              "    }\n",
              "\n",
              "    [theme=dark] .colab-df-convert {\n",
              "      background-color: #3B4455;\n",
              "      fill: #D2E3FC;\n",
              "    }\n",
              "\n",
              "    [theme=dark] .colab-df-convert:hover {\n",
              "      background-color: #434B5C;\n",
              "      box-shadow: 0px 1px 3px 1px rgba(0, 0, 0, 0.15);\n",
              "      filter: drop-shadow(0px 1px 2px rgba(0, 0, 0, 0.3));\n",
              "      fill: #FFFFFF;\n",
              "    }\n",
              "  </style>\n",
              "\n",
              "      <script>\n",
              "        const buttonEl =\n",
              "          document.querySelector('#df-b7807fa5-d0d8-48ad-b493-0d4aaec5388e button.colab-df-convert');\n",
              "        buttonEl.style.display =\n",
              "          google.colab.kernel.accessAllowed ? 'block' : 'none';\n",
              "\n",
              "        async function convertToInteractive(key) {\n",
              "          const element = document.querySelector('#df-b7807fa5-d0d8-48ad-b493-0d4aaec5388e');\n",
              "          const dataTable =\n",
              "            await google.colab.kernel.invokeFunction('convertToInteractive',\n",
              "                                                     [key], {});\n",
              "          if (!dataTable) return;\n",
              "\n",
              "          const docLinkHtml = 'Like what you see? Visit the ' +\n",
              "            '<a target=\"_blank\" href=https://colab.research.google.com/notebooks/data_table.ipynb>data table notebook</a>'\n",
              "            + ' to learn more about interactive tables.';\n",
              "          element.innerHTML = '';\n",
              "          dataTable['output_type'] = 'display_data';\n",
              "          await google.colab.output.renderOutput(dataTable, element);\n",
              "          const docLink = document.createElement('div');\n",
              "          docLink.innerHTML = docLinkHtml;\n",
              "          element.appendChild(docLink);\n",
              "        }\n",
              "      </script>\n",
              "    </div>\n",
              "  </div>\n",
              "  "
            ]
          },
          "metadata": {},
          "execution_count": 8
        }
      ],
      "source": [
        "data.head()"
      ]
    },
    {
      "cell_type": "code",
      "execution_count": null,
      "metadata": {
        "colab": {
          "base_uri": "https://localhost:8080/"
        },
        "id": "wbxGZDJ9TFmz",
        "outputId": "8f9c1ea7-6bba-4e90-9650-5d22b8d1ae6b"
      },
      "outputs": [
        {
          "output_type": "stream",
          "name": "stdout",
          "text": [
            "0    802537\n",
            "1     22042\n",
            "Name: cough, dtype: int64 \n",
            "\n",
            "0    802182\n",
            "1     22397\n",
            "Name: fever, dtype: int64 \n",
            "\n",
            "0    817206\n",
            "1      7373\n",
            "Name: sore_throat, dtype: int64 \n",
            "\n",
            "0    822363\n",
            "1      2216\n",
            "Name: shortness_of_breath, dtype: int64 \n",
            "\n",
            "0    809040\n",
            "1     15539\n",
            "Name: head_ache, dtype: int64 \n",
            "\n",
            "0    679302\n",
            "1    104337\n",
            "_     40940\n",
            "Name: age_60_and_above, dtype: int64 \n",
            "\n",
            "female    422583\n",
            "male      399895\n",
            "Name: gender, dtype: int64 \n",
            "\n",
            "Other                     771313\n",
            "Contact with confirmed     52109\n",
            "Abroad                      1157\n",
            "Name: test_indication, dtype: int64 \n",
            "\n",
            "0    740232\n",
            "1     84347\n",
            "Name: corona_result, dtype: int64 \n",
            "\n"
          ]
        }
      ],
      "source": [
        "for i in data_categorical.columns[1:]:\n",
        "  print(data_categorical[i].value_counts(), \"\\n\")"
      ]
    },
    {
      "cell_type": "code",
      "execution_count": null,
      "metadata": {
        "colab": {
          "base_uri": "https://localhost:8080/",
          "height": 280
        },
        "id": "f-u4OBGiW-BB",
        "outputId": "68be2383-bbfb-4f7c-b936-617b1f7794ed"
      },
      "outputs": [
        {
          "output_type": "display_data",
          "data": {
            "text/plain": [
              "<Figure size 432x288 with 1 Axes>"
            ],
            "image/png": "[encoded data removed]"
          },
          "metadata": {
            "needs_background": "light"
          }
        }
      ],
      "source": [
        "for i in data_categorical.columns[1:]:\n",
        "  sns.countplot(x=i, data=data_categorical)"
      ]
    },
    {
      "cell_type": "markdown",
      "metadata": {
        "id": "wH_du9YkPkVw"
      },
      "source": [
        "The test_date column is dropped from the dataset as this feature will not be utilized to predict the corona result."
      ]
    },
    {
      "cell_type": "code",
      "execution_count": null,
      "metadata": {
        "id": "ob9V3FJXPnbN"
      },
      "outputs": [],
      "source": [
        "data_categorical = data_categorical.drop(columns='test_date')\n",
        "data = data.drop(columns='test_date')"
      ]
    },
    {
      "cell_type": "code",
      "execution_count": null,
      "metadata": {
        "colab": {
          "base_uri": "https://localhost:8080/",
          "height": 624
        },
        "id": "zZgts45-aP8A",
        "outputId": "4c6ae018-2ff1-47c7-9b9f-212a81316673"
      },
      "outputs": [
        {
          "output_type": "execute_result",
          "data": {
            "text/plain": [
              "<matplotlib.axes._subplots.AxesSubplot at 0x7f34b93ede10>"
            ]
          },
          "metadata": {},
          "execution_count": 5
        },
        {
          "output_type": "display_data",
          "data": {
            "text/plain": [
              "<Figure size 1080x720 with 1 Axes>"
            ],
            "image/png": "[encoded data removed]"
          },
          "metadata": {
            "needs_background": "light"
          }
        }
      ],
      "source": [
        "df = pd.melt(data_categorical)\n",
        "plt.figure(figsize=(15,10))\n",
        "sns.countplot(data=df.loc[df['value']!=\"NO\"], x='variable', hue='value')"
      ]
    },
    {
      "cell_type": "markdown",
      "metadata": {
        "id": "N2SezMGmslZx"
      },
      "source": [
        "# **DATA PREPROCESSING**"
      ]
    },
    {
      "cell_type": "markdown",
      "metadata": {
        "id": "E7WHwjyRtuGv"
      },
      "source": [
        "Since the dataset deals with a medical issue such as COVID-19, it is optimal to discard the data points that contain missing values.\n",
        "\n",
        "The dataset duplicates, if any, should not be dropped as they add information to the dataset. It is a medical dataset so duplicate information is important and cannot be dropped."
      ]
    },
    {
      "cell_type": "code",
      "execution_count": null,
      "metadata": {
        "colab": {
          "base_uri": "https://localhost:8080/",
          "height": 229
        },
        "id": "uhmhiPXWvW5q",
        "outputId": "0a451cb8-37ca-4f28-e4d4-f4e8eb8f6194"
      },
      "outputs": [
        {
          "output_type": "display_data",
          "data": {
            "text/plain": [
              "<Figure size 1080x216 with 1 Axes>"
            ],
            "image/png": "[encoded data removed]"
          },
          "metadata": {
            "needs_background": "light"
          }
        }
      ],
      "source": [
        "# from datetime import datetime, timedelta\n",
        "# import random\n",
        "\n",
        "dates = pd.read_csv('/content/drive/MyDrive/Training.csv', parse_dates=['test_date'])\n",
        "\n",
        "dates.index = pd.to_datetime(dates['test_date'])\n",
        "dates = dates['corona_result']\n",
        "ax = dates.plot(kind='line',figsize=(15,3))"
      ]
    },
    {
      "cell_type": "code",
      "execution_count": null,
      "metadata": {
        "colab": {
          "base_uri": "https://localhost:8080/",
          "height": 237
        },
        "id": "XB87cmro5xf8",
        "outputId": "08d5729a-7be1-4aa5-b3e1-9c935cf8f714"
      },
      "outputs": [
        {
          "output_type": "display_data",
          "data": {
            "text/plain": [
              "<Figure size 1080x216 with 1 Axes>"
            ],
            "image/png": "[encoded data removed]"
          },
          "metadata": {
            "needs_background": "light"
          }
        }
      ],
      "source": [
        "monthly = dates.groupby(pd.Grouper(freq='M')).sum()\n",
        "ax = monthly.plot(kind='line',figsize=(15,3))"
      ]
    },
    {
      "cell_type": "code",
      "execution_count": null,
      "metadata": {
        "colab": {
          "base_uri": "https://localhost:8080/"
        },
        "id": "YfXRKbGYsvii",
        "outputId": "742819f3-8036-49fb-abcd-697f498dc20c"
      },
      "outputs": [
        {
          "output_type": "stream",
          "name": "stdout",
          "text": [
            "Number of rows in original dataset = 824579\n",
            "Number of rows after discarding missing values = 822478\n"
          ]
        }
      ],
      "source": [
        "print('Number of rows in original dataset = %d' % (data.shape[0]))\n",
        "\n",
        "data = data.dropna()\n",
        "print('Number of rows after discarding missing values = %d' % (data.shape[0]))"
      ]
    },
    {
      "cell_type": "markdown",
      "metadata": {
        "id": "yyRA55E89DAv"
      },
      "source": [
        "PCA is not applied to the dataset since its variables are all categorical. This is drawn from the following source: https://towardsdatascience.com/pca-is-not-feature-selection-3344fb764ae6#:~:text=While%20it%20is%20technically%20possible,not%20apply%20PCA%20to%20them.\n"
      ]
    },
    {
      "cell_type": "markdown",
      "metadata": {
        "id": "IvMLhLLL9cKn"
      },
      "source": [
        "Encoding the 'gender' and 'test_indication' features:"
      ]
    },
    {
      "cell_type": "code",
      "execution_count": null,
      "metadata": {
        "colab": {
          "base_uri": "https://localhost:8080/",
          "height": 423
        },
        "id": "euP15g0B9lKn",
        "outputId": "24befb9f-7a32-4a09-d4e2-44885cd35063"
      },
      "outputs": [
        {
          "output_type": "execute_result",
          "data": {
            "text/plain": [
              "        cough  fever  sore_throat  shortness_of_breath  head_ache  \\\n",
              "0           0      0            0                    0          0   \n",
              "1           0      0            0                    0          0   \n",
              "2           0      0            0                    0          0   \n",
              "3           0      0            0                    0          0   \n",
              "4           0      0            0                    0          0   \n",
              "...       ...    ...          ...                  ...        ...   \n",
              "824574      0      0            0                    0          0   \n",
              "824575      0      0            0                    0          0   \n",
              "824576      0      0            0                    0          1   \n",
              "824577      0      0            0                    0          0   \n",
              "824578      0      0            0                    0          0   \n",
              "\n",
              "       age_60_and_above  gender         test_indication  corona_result  \n",
              "0                     0    male                   Other              0  \n",
              "1                     0    male                   Other              0  \n",
              "2                     0  female                   Other              0  \n",
              "3                     0    male                   Other              0  \n",
              "4                     0    male                   Other              0  \n",
              "...                 ...     ...                     ...            ...  \n",
              "824574                0  female                   Other              1  \n",
              "824575                0  female                   Other              1  \n",
              "824576                0    male                   Other              1  \n",
              "824577                0    male  Contact with confirmed              1  \n",
              "824578                0  female                   Other              1  \n",
              "\n",
              "[822478 rows x 9 columns]"
            ],
            "text/html": [
              "\n",
              "  <div id=\"df-c9870b27-4f97-4deb-b9f2-7d2d5506e596\">\n",
              "    <div class=\"colab-df-container\">\n",
              "      <div>\n",
              "<style scoped>\n",
              "    .dataframe tbody tr th:only-of-type {\n",
              "        vertical-align: middle;\n",
              "    }\n",
              "\n",
              "    .dataframe tbody tr th {\n",
              "        vertical-align: top;\n",
              "    }\n",
              "\n",
              "    .dataframe thead th {\n",
              "        text-align: right;\n",
              "    }\n",
              "</style>\n",
              "<table border=\"1\" class=\"dataframe\">\n",
              "  <thead>\n",
              "    <tr style=\"text-align: right;\">\n",
              "      <th></th>\n",
              "      <th>cough</th>\n",
              "      <th>fever</th>\n",
              "      <th>sore_throat</th>\n",
              "      <th>shortness_of_breath</th>\n",
              "      <th>head_ache</th>\n",
              "      <th>age_60_and_above</th>\n",
              "      <th>gender</th>\n",
              "      <th>test_indication</th>\n",
              "      <th>corona_result</th>\n",
              "    </tr>\n",
              "  </thead>\n",
              "  <tbody>\n",
              "    <tr>\n",
              "      <th>0</th>\n",
              "      <td>0</td>\n",
              "      <td>0</td>\n",
              "      <td>0</td>\n",
              "      <td>0</td>\n",
              "      <td>0</td>\n",
              "      <td>0</td>\n",
              "      <td>male</td>\n",
              "      <td>Other</td>\n",
              "      <td>0</td>\n",
              "    </tr>\n",
              "    <tr>\n",
              "      <th>1</th>\n",
              "      <td>0</td>\n",
              "      <td>0</td>\n",
              "      <td>0</td>\n",
              "      <td>0</td>\n",
              "      <td>0</td>\n",
              "      <td>0</td>\n",
              "      <td>male</td>\n",
              "      <td>Other</td>\n",
              "      <td>0</td>\n",
              "    </tr>\n",
              "    <tr>\n",
              "      <th>2</th>\n",
              "      <td>0</td>\n",
              "      <td>0</td>\n",
              "      <td>0</td>\n",
              "      <td>0</td>\n",
              "      <td>0</td>\n",
              "      <td>0</td>\n",
              "      <td>female</td>\n",
              "      <td>Other</td>\n",
              "      <td>0</td>\n",
              "    </tr>\n",
              "    <tr>\n",
              "      <th>3</th>\n",
              "      <td>0</td>\n",
              "      <td>0</td>\n",
              "      <td>0</td>\n",
              "      <td>0</td>\n",
              "      <td>0</td>\n",
              "      <td>0</td>\n",
              "      <td>male</td>\n",
              "      <td>Other</td>\n",
              "      <td>0</td>\n",
              "    </tr>\n",
              "    <tr>\n",
              "      <th>4</th>\n",
              "      <td>0</td>\n",
              "      <td>0</td>\n",
              "      <td>0</td>\n",
              "      <td>0</td>\n",
              "      <td>0</td>\n",
              "      <td>0</td>\n",
              "      <td>male</td>\n",
              "      <td>Other</td>\n",
              "      <td>0</td>\n",
              "    </tr>\n",
              "    <tr>\n",
              "      <th>...</th>\n",
              "      <td>...</td>\n",
              "      <td>...</td>\n",
              "      <td>...</td>\n",
              "      <td>...</td>\n",
              "      <td>...</td>\n",
              "      <td>...</td>\n",
              "      <td>...</td>\n",
              "      <td>...</td>\n",
              "      <td>...</td>\n",
              "    </tr>\n",
              "    <tr>\n",
              "      <th>824574</th>\n",
              "      <td>0</td>\n",
              "      <td>0</td>\n",
              "      <td>0</td>\n",
              "      <td>0</td>\n",
              "      <td>0</td>\n",
              "      <td>0</td>\n",
              "      <td>female</td>\n",
              "      <td>Other</td>\n",
              "      <td>1</td>\n",
              "    </tr>\n",
              "    <tr>\n",
              "      <th>824575</th>\n",
              "      <td>0</td>\n",
              "      <td>0</td>\n",
              "      <td>0</td>\n",
              "      <td>0</td>\n",
              "      <td>0</td>\n",
              "      <td>0</td>\n",
              "      <td>female</td>\n",
              "      <td>Other</td>\n",
              "      <td>1</td>\n",
              "    </tr>\n",
              "    <tr>\n",
              "      <th>824576</th>\n",
              "      <td>0</td>\n",
              "      <td>0</td>\n",
              "      <td>0</td>\n",
              "      <td>0</td>\n",
              "      <td>1</td>\n",
              "      <td>0</td>\n",
              "      <td>male</td>\n",
              "      <td>Other</td>\n",
              "      <td>1</td>\n",
              "    </tr>\n",
              "    <tr>\n",
              "      <th>824577</th>\n",
              "      <td>0</td>\n",
              "      <td>0</td>\n",
              "      <td>0</td>\n",
              "      <td>0</td>\n",
              "      <td>0</td>\n",
              "      <td>0</td>\n",
              "      <td>male</td>\n",
              "      <td>Contact with confirmed</td>\n",
              "      <td>1</td>\n",
              "    </tr>\n",
              "    <tr>\n",
              "      <th>824578</th>\n",
              "      <td>0</td>\n",
              "      <td>0</td>\n",
              "      <td>0</td>\n",
              "      <td>0</td>\n",
              "      <td>0</td>\n",
              "      <td>0</td>\n",
              "      <td>female</td>\n",
              "      <td>Other</td>\n",
              "      <td>1</td>\n",
              "    </tr>\n",
              "  </tbody>\n",
              "</table>\n",
              "<p>822478 rows × 9 columns</p>\n",
              "</div>\n",
              "      <button class=\"colab-df-convert\" onclick=\"convertToInteractive('df-c9870b27-4f97-4deb-b9f2-7d2d5506e596')\"\n",
              "              title=\"Convert this dataframe to an interactive table.\"\n",
              "              style=\"display:none;\">\n",
              "        \n",
              "  <svg xmlns=\"http://www.w3.org/2000/svg\" height=\"24px\"viewBox=\"0 0 24 24\"\n",
              "       width=\"24px\">\n",
              "    <path d=\"M0 0h24v24H0V0z\" fill=\"none\"/>\n",
              "    <path d=\"M18.56 5.44l.94 2.06.94-2.06 2.06-.94-2.06-.94-.94-2.06-.94 2.06-2.06.94zm-11 1L8.5 8.5l.94-2.06 2.06-.94-2.06-.94L8.5 2.5l-.94 2.06-2.06.94zm10 10l.94 2.06.94-2.06 2.06-.94-2.06-.94-.94-2.06-.94 2.06-2.06.94z\"/><path d=\"M17.41 7.96l-1.37-1.37c-.4-.4-.92-.59-1.43-.59-.52 0-1.04.2-1.43.59L10.3 9.45l-7.72 7.72c-.78.78-.78 2.05 0 2.83L4 21.41c.39.39.9.59 1.41.59.51 0 1.02-.2 1.41-.59l7.78-7.78 2.81-2.81c.8-.78.8-2.07 0-2.86zM5.41 20L4 18.59l7.72-7.72 1.47 1.35L5.41 20z\"/>\n",
              "  </svg>\n",
              "      </button>\n",
              "      \n",
              "  <style>\n",
              "    .colab-df-container {\n",
              "      display:flex;\n",
              "      flex-wrap:wrap;\n",
              "      gap: 12px;\n",
              "    }\n",
              "\n",
              "    .colab-df-convert {\n",
              "      background-color: #E8F0FE;\n",
              "      border: none;\n",
              "      border-radius: 50%;\n",
              "      cursor: pointer;\n",
              "      display: none;\n",
              "      fill: #1967D2;\n",
              "      height: 32px;\n",
              "      padding: 0 0 0 0;\n",
              "      width: 32px;\n",
              "    }\n",
              "\n",
              "    .colab-df-convert:hover {\n",
              "      background-color: #E2EBFA;\n",
              "      box-shadow: 0px 1px 2px rgba(60, 64, 67, 0.3), 0px 1px 3px 1px rgba(60, 64, 67, 0.15);\n",
              "      fill: #174EA6;\n",
              "    }\n",
              "\n",
              "    [theme=dark] .colab-df-convert {\n",
              "      background-color: #3B4455;\n",
              "      fill: #D2E3FC;\n",
              "    }\n",
              "\n",
              "    [theme=dark] .colab-df-convert:hover {\n",
              "      background-color: #434B5C;\n",
              "      box-shadow: 0px 1px 3px 1px rgba(0, 0, 0, 0.15);\n",
              "      filter: drop-shadow(0px 1px 2px rgba(0, 0, 0, 0.3));\n",
              "      fill: #FFFFFF;\n",
              "    }\n",
              "  </style>\n",
              "\n",
              "      <script>\n",
              "        const buttonEl =\n",
              "          document.querySelector('#df-c9870b27-4f97-4deb-b9f2-7d2d5506e596 button.colab-df-convert');\n",
              "        buttonEl.style.display =\n",
              "          google.colab.kernel.accessAllowed ? 'block' : 'none';\n",
              "\n",
              "        async function convertToInteractive(key) {\n",
              "          const element = document.querySelector('#df-c9870b27-4f97-4deb-b9f2-7d2d5506e596');\n",
              "          const dataTable =\n",
              "            await google.colab.kernel.invokeFunction('convertToInteractive',\n",
              "                                                     [key], {});\n",
              "          if (!dataTable) return;\n",
              "\n",
              "          const docLinkHtml = 'Like what you see? Visit the ' +\n",
              "            '<a target=\"_blank\" href=https://colab.research.google.com/notebooks/data_table.ipynb>data table notebook</a>'\n",
              "            + ' to learn more about interactive tables.';\n",
              "          element.innerHTML = '';\n",
              "          dataTable['output_type'] = 'display_data';\n",
              "          await google.colab.output.renderOutput(dataTable, element);\n",
              "          const docLink = document.createElement('div');\n",
              "          docLink.innerHTML = docLinkHtml;\n",
              "          element.appendChild(docLink);\n",
              "        }\n",
              "      </script>\n",
              "    </div>\n",
              "  </div>\n",
              "  "
            ]
          },
          "metadata": {},
          "execution_count": 9
        }
      ],
      "source": [
        "data"
      ]
    },
    {
      "cell_type": "code",
      "execution_count": null,
      "metadata": {
        "colab": {
          "base_uri": "https://localhost:8080/",
          "height": 206
        },
        "id": "QMdoMILc_yUD",
        "outputId": "a1980864-061b-4a4d-9a67-cabc5b1cfa72"
      },
      "outputs": [
        {
          "output_type": "execute_result",
          "data": {
            "text/plain": [
              "   cough  fever  sore_throat  shortness_of_breath  head_ache age_60_and_above  \\\n",
              "0      0      0            0                    0          0                0   \n",
              "1      0      0            0                    0          0                0   \n",
              "2      0      0            0                    0          0                0   \n",
              "3      0      0            0                    0          0                0   \n",
              "4      0      0            0                    0          0                0   \n",
              "\n",
              "   gender test_indication  corona_result  \n",
              "0       1           Other              0  \n",
              "1       1           Other              0  \n",
              "2       0           Other              0  \n",
              "3       1           Other              0  \n",
              "4       1           Other              0  "
            ],
            "text/html": [
              "\n",
              "  <div id=\"df-e2a6dfd2-4c33-4366-abd7-21241fa3aa77\">\n",
              "    <div class=\"colab-df-container\">\n",
              "      <div>\n",
              "<style scoped>\n",
              "    .dataframe tbody tr th:only-of-type {\n",
              "        vertical-align: middle;\n",
              "    }\n",
              "\n",
              "    .dataframe tbody tr th {\n",
              "        vertical-align: top;\n",
              "    }\n",
              "\n",
              "    .dataframe thead th {\n",
              "        text-align: right;\n",
              "    }\n",
              "</style>\n",
              "<table border=\"1\" class=\"dataframe\">\n",
              "  <thead>\n",
              "    <tr style=\"text-align: right;\">\n",
              "      <th></th>\n",
              "      <th>cough</th>\n",
              "      <th>fever</th>\n",
              "      <th>sore_throat</th>\n",
              "      <th>shortness_of_breath</th>\n",
              "      <th>head_ache</th>\n",
              "      <th>age_60_and_above</th>\n",
              "      <th>gender</th>\n",
              "      <th>test_indication</th>\n",
              "      <th>corona_result</th>\n",
              "    </tr>\n",
              "  </thead>\n",
              "  <tbody>\n",
              "    <tr>\n",
              "      <th>0</th>\n",
              "      <td>0</td>\n",
              "      <td>0</td>\n",
              "      <td>0</td>\n",
              "      <td>0</td>\n",
              "      <td>0</td>\n",
              "      <td>0</td>\n",
              "      <td>1</td>\n",
              "      <td>Other</td>\n",
              "      <td>0</td>\n",
              "    </tr>\n",
              "    <tr>\n",
              "      <th>1</th>\n",
              "      <td>0</td>\n",
              "      <td>0</td>\n",
              "      <td>0</td>\n",
              "      <td>0</td>\n",
              "      <td>0</td>\n",
              "      <td>0</td>\n",
              "      <td>1</td>\n",
              "      <td>Other</td>\n",
              "      <td>0</td>\n",
              "    </tr>\n",
              "    <tr>\n",
              "      <th>2</th>\n",
              "      <td>0</td>\n",
              "      <td>0</td>\n",
              "      <td>0</td>\n",
              "      <td>0</td>\n",
              "      <td>0</td>\n",
              "      <td>0</td>\n",
              "      <td>0</td>\n",
              "      <td>Other</td>\n",
              "      <td>0</td>\n",
              "    </tr>\n",
              "    <tr>\n",
              "      <th>3</th>\n",
              "      <td>0</td>\n",
              "      <td>0</td>\n",
              "      <td>0</td>\n",
              "      <td>0</td>\n",
              "      <td>0</td>\n",
              "      <td>0</td>\n",
              "      <td>1</td>\n",
              "      <td>Other</td>\n",
              "      <td>0</td>\n",
              "    </tr>\n",
              "    <tr>\n",
              "      <th>4</th>\n",
              "      <td>0</td>\n",
              "      <td>0</td>\n",
              "      <td>0</td>\n",
              "      <td>0</td>\n",
              "      <td>0</td>\n",
              "      <td>0</td>\n",
              "      <td>1</td>\n",
              "      <td>Other</td>\n",
              "      <td>0</td>\n",
              "    </tr>\n",
              "  </tbody>\n",
              "</table>\n",
              "</div>\n",
              "      <button class=\"colab-df-convert\" onclick=\"convertToInteractive('df-e2a6dfd2-4c33-4366-abd7-21241fa3aa77')\"\n",
              "              title=\"Convert this dataframe to an interactive table.\"\n",
              "              style=\"display:none;\">\n",
              "        \n",
              "  <svg xmlns=\"http://www.w3.org/2000/svg\" height=\"24px\"viewBox=\"0 0 24 24\"\n",
              "       width=\"24px\">\n",
              "    <path d=\"M0 0h24v24H0V0z\" fill=\"none\"/>\n",
              "    <path d=\"M18.56 5.44l.94 2.06.94-2.06 2.06-.94-2.06-.94-.94-2.06-.94 2.06-2.06.94zm-11 1L8.5 8.5l.94-2.06 2.06-.94-2.06-.94L8.5 2.5l-.94 2.06-2.06.94zm10 10l.94 2.06.94-2.06 2.06-.94-2.06-.94-.94-2.06-.94 2.06-2.06.94z\"/><path d=\"M17.41 7.96l-1.37-1.37c-.4-.4-.92-.59-1.43-.59-.52 0-1.04.2-1.43.59L10.3 9.45l-7.72 7.72c-.78.78-.78 2.05 0 2.83L4 21.41c.39.39.9.59 1.41.59.51 0 1.02-.2 1.41-.59l7.78-7.78 2.81-2.81c.8-.78.8-2.07 0-2.86zM5.41 20L4 18.59l7.72-7.72 1.47 1.35L5.41 20z\"/>\n",
              "  </svg>\n",
              "      </button>\n",
              "      \n",
              "  <style>\n",
              "    .colab-df-container {\n",
              "      display:flex;\n",
              "      flex-wrap:wrap;\n",
              "      gap: 12px;\n",
              "    }\n",
              "\n",
              "    .colab-df-convert {\n",
              "      background-color: #E8F0FE;\n",
              "      border: none;\n",
              "      border-radius: 50%;\n",
              "      cursor: pointer;\n",
              "      display: none;\n",
              "      fill: #1967D2;\n",
              "      height: 32px;\n",
              "      padding: 0 0 0 0;\n",
              "      width: 32px;\n",
              "    }\n",
              "\n",
              "    .colab-df-convert:hover {\n",
              "      background-color: #E2EBFA;\n",
              "      box-shadow: 0px 1px 2px rgba(60, 64, 67, 0.3), 0px 1px 3px 1px rgba(60, 64, 67, 0.15);\n",
              "      fill: #174EA6;\n",
              "    }\n",
              "\n",
              "    [theme=dark] .colab-df-convert {\n",
              "      background-color: #3B4455;\n",
              "      fill: #D2E3FC;\n",
              "    }\n",
              "\n",
              "    [theme=dark] .colab-df-convert:hover {\n",
              "      background-color: #434B5C;\n",
              "      box-shadow: 0px 1px 3px 1px rgba(0, 0, 0, 0.15);\n",
              "      filter: drop-shadow(0px 1px 2px rgba(0, 0, 0, 0.3));\n",
              "      fill: #FFFFFF;\n",
              "    }\n",
              "  </style>\n",
              "\n",
              "      <script>\n",
              "        const buttonEl =\n",
              "          document.querySelector('#df-e2a6dfd2-4c33-4366-abd7-21241fa3aa77 button.colab-df-convert');\n",
              "        buttonEl.style.display =\n",
              "          google.colab.kernel.accessAllowed ? 'block' : 'none';\n",
              "\n",
              "        async function convertToInteractive(key) {\n",
              "          const element = document.querySelector('#df-e2a6dfd2-4c33-4366-abd7-21241fa3aa77');\n",
              "          const dataTable =\n",
              "            await google.colab.kernel.invokeFunction('convertToInteractive',\n",
              "                                                     [key], {});\n",
              "          if (!dataTable) return;\n",
              "\n",
              "          const docLinkHtml = 'Like what you see? Visit the ' +\n",
              "            '<a target=\"_blank\" href=https://colab.research.google.com/notebooks/data_table.ipynb>data table notebook</a>'\n",
              "            + ' to learn more about interactive tables.';\n",
              "          element.innerHTML = '';\n",
              "          dataTable['output_type'] = 'display_data';\n",
              "          await google.colab.output.renderOutput(dataTable, element);\n",
              "          const docLink = document.createElement('div');\n",
              "          docLink.innerHTML = docLinkHtml;\n",
              "          element.appendChild(docLink);\n",
              "        }\n",
              "      </script>\n",
              "    </div>\n",
              "  </div>\n",
              "  "
            ]
          },
          "metadata": {},
          "execution_count": 9
        }
      ],
      "source": [
        "# Encoding categorical variables\n",
        "from sklearn import preprocessing\n",
        "import numpy as np\n",
        "\n",
        "enc = preprocessing.OrdinalEncoder()\n",
        "data['gender'] = data['gender'].astype('category')\n",
        "data['gender'] = data['gender'].cat.codes\n",
        "data.head()"
      ]
    },
    {
      "cell_type": "markdown",
      "metadata": {
        "id": "U3Yshw1fCHiX"
      },
      "source": [
        "female -> 0\n",
        "male -> 1"
      ]
    },
    {
      "cell_type": "code",
      "execution_count": null,
      "metadata": {
        "colab": {
          "base_uri": "https://localhost:8080/",
          "height": 423
        },
        "id": "wzf3XV_UCOZm",
        "outputId": "6ce9cf23-8da6-440a-d763-57f982c81b46"
      },
      "outputs": [
        {
          "output_type": "execute_result",
          "data": {
            "text/plain": [
              "        cough  fever  sore_throat  shortness_of_breath  head_ache  \\\n",
              "0           0      0            0                    0          0   \n",
              "1           0      0            0                    0          0   \n",
              "2           0      0            0                    0          0   \n",
              "3           0      0            0                    0          0   \n",
              "4           0      0            0                    0          0   \n",
              "...       ...    ...          ...                  ...        ...   \n",
              "824574      0      0            0                    0          0   \n",
              "824575      0      0            0                    0          0   \n",
              "824576      0      0            0                    0          1   \n",
              "824577      0      0            0                    0          0   \n",
              "824578      0      0            0                    0          0   \n",
              "\n",
              "       age_60_and_above  gender  test_indication  corona_result  \n",
              "0                     0       1                2              0  \n",
              "1                     0       1                2              0  \n",
              "2                     0       0                2              0  \n",
              "3                     0       1                2              0  \n",
              "4                     0       1                2              0  \n",
              "...                 ...     ...              ...            ...  \n",
              "824574                0       0                2              1  \n",
              "824575                0       0                2              1  \n",
              "824576                0       1                2              1  \n",
              "824577                0       1                1              1  \n",
              "824578                0       0                2              1  \n",
              "\n",
              "[822478 rows x 9 columns]"
            ],
            "text/html": [
              "\n",
              "  <div id=\"df-93f383bd-6152-419c-8ae1-32de7a7f99ea\">\n",
              "    <div class=\"colab-df-container\">\n",
              "      <div>\n",
              "<style scoped>\n",
              "    .dataframe tbody tr th:only-of-type {\n",
              "        vertical-align: middle;\n",
              "    }\n",
              "\n",
              "    .dataframe tbody tr th {\n",
              "        vertical-align: top;\n",
              "    }\n",
              "\n",
              "    .dataframe thead th {\n",
              "        text-align: right;\n",
              "    }\n",
              "</style>\n",
              "<table border=\"1\" class=\"dataframe\">\n",
              "  <thead>\n",
              "    <tr style=\"text-align: right;\">\n",
              "      <th></th>\n",
              "      <th>cough</th>\n",
              "      <th>fever</th>\n",
              "      <th>sore_throat</th>\n",
              "      <th>shortness_of_breath</th>\n",
              "      <th>head_ache</th>\n",
              "      <th>age_60_and_above</th>\n",
              "      <th>gender</th>\n",
              "      <th>test_indication</th>\n",
              "      <th>corona_result</th>\n",
              "    </tr>\n",
              "  </thead>\n",
              "  <tbody>\n",
              "    <tr>\n",
              "      <th>0</th>\n",
              "      <td>0</td>\n",
              "      <td>0</td>\n",
              "      <td>0</td>\n",
              "      <td>0</td>\n",
              "      <td>0</td>\n",
              "      <td>0</td>\n",
              "      <td>1</td>\n",
              "      <td>2</td>\n",
              "      <td>0</td>\n",
              "    </tr>\n",
              "    <tr>\n",
              "      <th>1</th>\n",
              "      <td>0</td>\n",
              "      <td>0</td>\n",
              "      <td>0</td>\n",
              "      <td>0</td>\n",
              "      <td>0</td>\n",
              "      <td>0</td>\n",
              "      <td>1</td>\n",
              "      <td>2</td>\n",
              "      <td>0</td>\n",
              "    </tr>\n",
              "    <tr>\n",
              "      <th>2</th>\n",
              "      <td>0</td>\n",
              "      <td>0</td>\n",
              "      <td>0</td>\n",
              "      <td>0</td>\n",
              "      <td>0</td>\n",
              "      <td>0</td>\n",
              "      <td>0</td>\n",
              "      <td>2</td>\n",
              "      <td>0</td>\n",
              "    </tr>\n",
              "    <tr>\n",
              "      <th>3</th>\n",
              "      <td>0</td>\n",
              "      <td>0</td>\n",
              "      <td>0</td>\n",
              "      <td>0</td>\n",
              "      <td>0</td>\n",
              "      <td>0</td>\n",
              "      <td>1</td>\n",
              "      <td>2</td>\n",
              "      <td>0</td>\n",
              "    </tr>\n",
              "    <tr>\n",
              "      <th>4</th>\n",
              "      <td>0</td>\n",
              "      <td>0</td>\n",
              "      <td>0</td>\n",
              "      <td>0</td>\n",
              "      <td>0</td>\n",
              "      <td>0</td>\n",
              "      <td>1</td>\n",
              "      <td>2</td>\n",
              "      <td>0</td>\n",
              "    </tr>\n",
              "    <tr>\n",
              "      <th>...</th>\n",
              "      <td>...</td>\n",
              "      <td>...</td>\n",
              "      <td>...</td>\n",
              "      <td>...</td>\n",
              "      <td>...</td>\n",
              "      <td>...</td>\n",
              "      <td>...</td>\n",
              "      <td>...</td>\n",
              "      <td>...</td>\n",
              "    </tr>\n",
              "    <tr>\n",
              "      <th>824574</th>\n",
              "      <td>0</td>\n",
              "      <td>0</td>\n",
              "      <td>0</td>\n",
              "      <td>0</td>\n",
              "      <td>0</td>\n",
              "      <td>0</td>\n",
              "      <td>0</td>\n",
              "      <td>2</td>\n",
              "      <td>1</td>\n",
              "    </tr>\n",
              "    <tr>\n",
              "      <th>824575</th>\n",
              "      <td>0</td>\n",
              "      <td>0</td>\n",
              "      <td>0</td>\n",
              "      <td>0</td>\n",
              "      <td>0</td>\n",
              "      <td>0</td>\n",
              "      <td>0</td>\n",
              "      <td>2</td>\n",
              "      <td>1</td>\n",
              "    </tr>\n",
              "    <tr>\n",
              "      <th>824576</th>\n",
              "      <td>0</td>\n",
              "      <td>0</td>\n",
              "      <td>0</td>\n",
              "      <td>0</td>\n",
              "      <td>1</td>\n",
              "      <td>0</td>\n",
              "      <td>1</td>\n",
              "      <td>2</td>\n",
              "      <td>1</td>\n",
              "    </tr>\n",
              "    <tr>\n",
              "      <th>824577</th>\n",
              "      <td>0</td>\n",
              "      <td>0</td>\n",
              "      <td>0</td>\n",
              "      <td>0</td>\n",
              "      <td>0</td>\n",
              "      <td>0</td>\n",
              "      <td>1</td>\n",
              "      <td>1</td>\n",
              "      <td>1</td>\n",
              "    </tr>\n",
              "    <tr>\n",
              "      <th>824578</th>\n",
              "      <td>0</td>\n",
              "      <td>0</td>\n",
              "      <td>0</td>\n",
              "      <td>0</td>\n",
              "      <td>0</td>\n",
              "      <td>0</td>\n",
              "      <td>0</td>\n",
              "      <td>2</td>\n",
              "      <td>1</td>\n",
              "    </tr>\n",
              "  </tbody>\n",
              "</table>\n",
              "<p>822478 rows × 9 columns</p>\n",
              "</div>\n",
              "      <button class=\"colab-df-convert\" onclick=\"convertToInteractive('df-93f383bd-6152-419c-8ae1-32de7a7f99ea')\"\n",
              "              title=\"Convert this dataframe to an interactive table.\"\n",
              "              style=\"display:none;\">\n",
              "        \n",
              "  <svg xmlns=\"http://www.w3.org/2000/svg\" height=\"24px\"viewBox=\"0 0 24 24\"\n",
              "       width=\"24px\">\n",
              "    <path d=\"M0 0h24v24H0V0z\" fill=\"none\"/>\n",
              "    <path d=\"M18.56 5.44l.94 2.06.94-2.06 2.06-.94-2.06-.94-.94-2.06-.94 2.06-2.06.94zm-11 1L8.5 8.5l.94-2.06 2.06-.94-2.06-.94L8.5 2.5l-.94 2.06-2.06.94zm10 10l.94 2.06.94-2.06 2.06-.94-2.06-.94-.94-2.06-.94 2.06-2.06.94z\"/><path d=\"M17.41 7.96l-1.37-1.37c-.4-.4-.92-.59-1.43-.59-.52 0-1.04.2-1.43.59L10.3 9.45l-7.72 7.72c-.78.78-.78 2.05 0 2.83L4 21.41c.39.39.9.59 1.41.59.51 0 1.02-.2 1.41-.59l7.78-7.78 2.81-2.81c.8-.78.8-2.07 0-2.86zM5.41 20L4 18.59l7.72-7.72 1.47 1.35L5.41 20z\"/>\n",
              "  </svg>\n",
              "      </button>\n",
              "      \n",
              "  <style>\n",
              "    .colab-df-container {\n",
              "      display:flex;\n",
              "      flex-wrap:wrap;\n",
              "      gap: 12px;\n",
              "    }\n",
              "\n",
              "    .colab-df-convert {\n",
              "      background-color: #E8F0FE;\n",
              "      border: none;\n",
              "      border-radius: 50%;\n",
              "      cursor: pointer;\n",
              "      display: none;\n",
              "      fill: #1967D2;\n",
              "      height: 32px;\n",
              "      padding: 0 0 0 0;\n",
              "      width: 32px;\n",
              "    }\n",
              "\n",
              "    .colab-df-convert:hover {\n",
              "      background-color: #E2EBFA;\n",
              "      box-shadow: 0px 1px 2px rgba(60, 64, 67, 0.3), 0px 1px 3px 1px rgba(60, 64, 67, 0.15);\n",
              "      fill: #174EA6;\n",
              "    }\n",
              "\n",
              "    [theme=dark] .colab-df-convert {\n",
              "      background-color: #3B4455;\n",
              "      fill: #D2E3FC;\n",
              "    }\n",
              "\n",
              "    [theme=dark] .colab-df-convert:hover {\n",
              "      background-color: #434B5C;\n",
              "      box-shadow: 0px 1px 3px 1px rgba(0, 0, 0, 0.15);\n",
              "      filter: drop-shadow(0px 1px 2px rgba(0, 0, 0, 0.3));\n",
              "      fill: #FFFFFF;\n",
              "    }\n",
              "  </style>\n",
              "\n",
              "      <script>\n",
              "        const buttonEl =\n",
              "          document.querySelector('#df-93f383bd-6152-419c-8ae1-32de7a7f99ea button.colab-df-convert');\n",
              "        buttonEl.style.display =\n",
              "          google.colab.kernel.accessAllowed ? 'block' : 'none';\n",
              "\n",
              "        async function convertToInteractive(key) {\n",
              "          const element = document.querySelector('#df-93f383bd-6152-419c-8ae1-32de7a7f99ea');\n",
              "          const dataTable =\n",
              "            await google.colab.kernel.invokeFunction('convertToInteractive',\n",
              "                                                     [key], {});\n",
              "          if (!dataTable) return;\n",
              "\n",
              "          const docLinkHtml = 'Like what you see? Visit the ' +\n",
              "            '<a target=\"_blank\" href=https://colab.research.google.com/notebooks/data_table.ipynb>data table notebook</a>'\n",
              "            + ' to learn more about interactive tables.';\n",
              "          element.innerHTML = '';\n",
              "          dataTable['output_type'] = 'display_data';\n",
              "          await google.colab.output.renderOutput(dataTable, element);\n",
              "          const docLink = document.createElement('div');\n",
              "          docLink.innerHTML = docLinkHtml;\n",
              "          element.appendChild(docLink);\n",
              "        }\n",
              "      </script>\n",
              "    </div>\n",
              "  </div>\n",
              "  "
            ]
          },
          "metadata": {},
          "execution_count": 10
        }
      ],
      "source": [
        "data['test_indication'] = data['test_indication'].astype('category')\n",
        "data['test_indication'] = data['test_indication'].cat.codes\n",
        "data"
      ]
    },
    {
      "cell_type": "markdown",
      "metadata": {
        "id": "KbH_SjDMeNJy"
      },
      "source": [
        "Abroad-> 0; Contact_with_confirmed-> 1; Other-> "
      ]
    },
    {
      "cell_type": "code",
      "execution_count": null,
      "metadata": {
        "colab": {
          "base_uri": "https://localhost:8080/"
        },
        "id": "zaekWwzqEy3Z",
        "outputId": "5d3af001-24f5-48b4-bace-dd7cf9f2f572"
      },
      "outputs": [
        {
          "output_type": "stream",
          "name": "stdout",
          "text": [
            "<class 'pandas.core.frame.DataFrame'>\n",
            "Int64Index: 822478 entries, 0 to 824578\n",
            "Data columns (total 9 columns):\n",
            " #   Column               Non-Null Count   Dtype \n",
            "---  ------               --------------   ----- \n",
            " 0   cough                822478 non-null  int64 \n",
            " 1   fever                822478 non-null  int64 \n",
            " 2   sore_throat          822478 non-null  int64 \n",
            " 3   shortness_of_breath  822478 non-null  int64 \n",
            " 4   head_ache            822478 non-null  int64 \n",
            " 5   age_60_and_above     822478 non-null  object\n",
            " 6   gender               822478 non-null  int8  \n",
            " 7   test_indication      822478 non-null  int8  \n",
            " 8   corona_result        822478 non-null  int64 \n",
            "dtypes: int64(6), int8(2), object(1)\n",
            "memory usage: 51.8+ MB\n"
          ]
        }
      ],
      "source": [
        "data.info()"
      ]
    },
    {
      "cell_type": "markdown",
      "metadata": {
        "id": "PX5TD8XDE3IN"
      },
      "source": [
        "'age_60_and_above' is stored as type object. Hence, it needs to be converted to type integer."
      ]
    },
    {
      "cell_type": "code",
      "execution_count": null,
      "metadata": {
        "colab": {
          "base_uri": "https://localhost:8080/"
        },
        "id": "C7VmHF3_E_D0",
        "outputId": "d3e8c4ad-631b-4030-f8ac-64fd7df7222d"
      },
      "outputs": [
        {
          "output_type": "execute_result",
          "data": {
            "text/plain": [
              "array(['0', '_', '1'], dtype=object)"
            ]
          },
          "metadata": {},
          "execution_count": 12
        }
      ],
      "source": [
        "# training_data['age_60_and_above'] = pd.to_numeric(training_data['age_60_and_above'])\n",
        "data['age_60_and_above'].unique()"
      ]
    },
    {
      "cell_type": "markdown",
      "metadata": {
        "id": "7IHmxipgF82G"
      },
      "source": [
        "'age_60_and_above' has values _ that need to be dropped."
      ]
    },
    {
      "cell_type": "code",
      "execution_count": null,
      "metadata": {
        "colab": {
          "base_uri": "https://localhost:8080/"
        },
        "id": "KCf8F04pGEGa",
        "outputId": "db3f29ab-e2fe-4e73-9afd-b084646e5594"
      },
      "outputs": [
        {
          "output_type": "execute_result",
          "data": {
            "text/plain": [
              "array(['0', '1'], dtype=object)"
            ]
          },
          "metadata": {},
          "execution_count": 13
        }
      ],
      "source": [
        "data = data[data['age_60_and_above'] != '_']\n",
        "data['age_60_and_above'].unique()"
      ]
    },
    {
      "cell_type": "code",
      "execution_count": null,
      "metadata": {
        "colab": {
          "base_uri": "https://localhost:8080/"
        },
        "id": "wlDfNQk8IjFe",
        "outputId": "50244c78-d695-4041-eeeb-fdda75d5cd0f"
      },
      "outputs": [
        {
          "output_type": "stream",
          "name": "stdout",
          "text": [
            "<class 'pandas.core.frame.DataFrame'>\n",
            "Int64Index: 782628 entries, 0 to 824578\n",
            "Data columns (total 9 columns):\n",
            " #   Column               Non-Null Count   Dtype\n",
            "---  ------               --------------   -----\n",
            " 0   cough                782628 non-null  int64\n",
            " 1   fever                782628 non-null  int64\n",
            " 2   sore_throat          782628 non-null  int64\n",
            " 3   shortness_of_breath  782628 non-null  int64\n",
            " 4   head_ache            782628 non-null  int64\n",
            " 5   age_60_and_above     782628 non-null  int64\n",
            " 6   gender               782628 non-null  int8 \n",
            " 7   test_indication      782628 non-null  int8 \n",
            " 8   corona_result        782628 non-null  int64\n",
            "dtypes: int64(7), int8(2)\n",
            "memory usage: 49.3 MB\n"
          ]
        },
        {
          "output_type": "stream",
          "name": "stderr",
          "text": [
            "/usr/local/lib/python3.7/dist-packages/ipykernel_launcher.py:1: SettingWithCopyWarning: \n",
            "A value is trying to be set on a copy of a slice from a DataFrame.\n",
            "Try using .loc[row_indexer,col_indexer] = value instead\n",
            "\n",
            "See the caveats in the documentation: https://pandas.pydata.org/pandas-docs/stable/user_guide/indexing.html#returning-a-view-versus-a-copy\n",
            "  \"\"\"Entry point for launching an IPython kernel.\n"
          ]
        }
      ],
      "source": [
        "data['age_60_and_above'] = pd.to_numeric(data['age_60_and_above'])\n",
        "data.info()"
      ]
    },
    {
      "cell_type": "code",
      "execution_count": null,
      "metadata": {
        "colab": {
          "base_uri": "https://localhost:8080/"
        },
        "id": "JoiyP_K_CgwU",
        "outputId": "344eb8ff-32ff-4287-b6e4-3dd227f502da"
      },
      "outputs": [
        {
          "output_type": "execute_result",
          "data": {
            "text/plain": [
              "array([[0, 0, 0, ..., 0, 1, 2],\n",
              "       [0, 0, 0, ..., 0, 1, 2],\n",
              "       [0, 0, 0, ..., 0, 0, 2],\n",
              "       ...,\n",
              "       [0, 0, 0, ..., 0, 1, 2],\n",
              "       [0, 0, 0, ..., 0, 1, 1],\n",
              "       [0, 0, 0, ..., 0, 0, 2]])"
            ]
          },
          "metadata": {},
          "execution_count": 15
        }
      ],
      "source": [
        "data_features = data.iloc[:, :-1]\n",
        "data_features_np = data_features.to_numpy()\n",
        "data_features_np"
      ]
    },
    {
      "cell_type": "code",
      "execution_count": null,
      "metadata": {
        "colab": {
          "base_uri": "https://localhost:8080/"
        },
        "id": "W9D-WvpoEJ65",
        "outputId": "fe8e8a02-319f-4096-d437-4f64cac8e6cf"
      },
      "outputs": [
        {
          "output_type": "execute_result",
          "data": {
            "text/plain": [
              "array([0, 0, 0, ..., 1, 1, 1])"
            ]
          },
          "metadata": {},
          "execution_count": 16
        }
      ],
      "source": [
        "data_labels = data.iloc[:, -1]\n",
        "data_labels_np = data_labels.to_numpy()\n",
        "data_labels_np"
      ]
    },
    {
      "cell_type": "markdown",
      "metadata": {
        "id": "mDvAJEusSKm7"
      },
      "source": [
        "# **SPLITTING DATASET**"
      ]
    },
    {
      "cell_type": "code",
      "execution_count": null,
      "metadata": {
        "id": "rYZoN0iXSV8w"
      },
      "outputs": [],
      "source": [
        "from sklearn.datasets import load_iris\n",
        "from sklearn.tree import DecisionTreeClassifier\n",
        "from sklearn import tree \n",
        "from sklearn.model_selection import train_test_split"
      ]
    },
    {
      "cell_type": "code",
      "execution_count": null,
      "metadata": {
        "id": "fhLWR8YqSP_W"
      },
      "outputs": [],
      "source": [
        "[x_train, x_test, y_train, y_test] = train_test_split(data_features_np, data_labels_np, test_size=0.2)\n",
        "x_train, x_test, y_train, y_test = x_train[:21], x_test[:21], y_train[:21], y_test[:21]\n",
        "[x_train, x_test, y_train, y_test] = [x_train, x_test, y_train, y_test]\n",
        "print(x_train, x_test, y_train, y_test, sep=\"\\n\")"
      ]
    },
    {
      "cell_type": "markdown",
      "metadata": {
        "id": "QMD_UHhlWmhU"
      },
      "source": [
        "# **DECISION TREE CLASSIFIER** "
      ]
    },
    {
      "cell_type": "code",
      "execution_count": null,
      "metadata": {
        "colab": {
          "base_uri": "https://localhost:8080/",
          "height": 1000
        },
        "id": "yoD3uitWM5L0",
        "outputId": "6a7b8507-3ec5-43f8-d572-d9830b694591"
      },
      "outputs": [
        {
          "name": "stdout",
          "output_type": "stream",
          "text": [
            "Training Accuracy =  0.9191633312144027\n",
            "Testing Accuracy =  0.9190741474259867\n",
            "y_predicted =  [0 0 0 ... 0 0 0]\n",
            "y_test =  [0 0 0 ... 0 0 1]\n",
            "Training Accuracy =  0.9192415932228295\n",
            "Testing Accuracy =  0.9183075016291223\n",
            "y_predicted =  [0 0 0 ... 0 0 0]\n",
            "y_test =  [0 0 0 ... 0 0 0]\n",
            "Training Accuracy =  0.9189684747852587\n",
            "Testing Accuracy =  0.9198663480827466\n",
            "y_predicted =  [0 0 0 ... 1 0 0]\n",
            "y_test =  [0 0 0 ... 1 0 0]\n",
            "Training Accuracy =  0.9192479819582113\n",
            "Testing Accuracy =  0.9187483229623193\n",
            "y_predicted =  [0 0 0 ... 0 0 0]\n",
            "y_test =  [0 0 1 ... 0 0 0]\n",
            "Training Accuracy =  0.9192958974735745\n",
            "Testing Accuracy =  0.9180327868852459\n",
            "y_predicted =  [0 0 0 ... 0 0 0]\n",
            "y_test =  [1 0 0 ... 0 0 0]\n",
            "Training Accuracy =  0.9193150636797199\n",
            "Testing Accuracy =  0.9184991630783385\n",
            "y_predicted =  [0 0 1 ... 0 0 0]\n",
            "y_test =  [0 0 1 ... 0 0 0]\n",
            "Training Accuracy =  0.9191585396628664\n",
            "Testing Accuracy =  0.9190677587110129\n",
            "y_predicted =  [0 0 0 ... 0 0 0]\n",
            "y_test =  [0 0 0 ... 0 0 0]\n",
            "Training Accuracy =  0.9193150636797199\n",
            "Testing Accuracy =  0.9185055517933123\n",
            "y_predicted =  [0 0 0 ... 0 0 0]\n",
            "y_test =  [0 0 0 ... 0 0 0]\n",
            "Training Accuracy =  0.9189668776014132\n",
            "Testing Accuracy =  0.9197385737832693\n",
            "y_predicted =  [0 0 0 ... 0 0 0]\n",
            "y_test =  [0 0 1 ... 0 0 0]\n",
            "Training Accuracy =  0.9194763792481098\n",
            "Testing Accuracy =  0.9178091818611605\n",
            "y_predicted =  [0 0 0 ... 0 0 0]\n",
            "y_test =  [0 0 0 ... 0 0 0]\n",
            "Average Training Accuracy =  0.9192149202526106\n",
            "Average Testing Accuracy =  0.9187649336212514\n",
            "Standard deviation of training accuracies =  0.00015807198687127347\n",
            "Standard deviation of testing accuracies =  0.0006786701308549356\n"
          ]
        },
        {
          "data": {
            "image/png": "[encoded data removed]",
            "text/plain": [
              "<Figure size 432x288 with 1 Axes>"
            ]
          },
          "metadata": {},
          "output_type": "display_data"
        }
      ],
      "source": [
        "clf = DecisionTreeClassifier()\n",
        "\n",
        "#sum_training_acc = 0\n",
        "#sum_testing_acc = 0\n",
        "\n",
        "from statistics import stdev\n",
        "\n",
        "lst_train = []\n",
        "lst_test = []\n",
        "\n",
        "for i in range(10):\n",
        "  [x_train, x_test, y_train, y_test] = train_test_split(data_features_np, data_labels_np, test_size=0.2)\n",
        "\n",
        "  clf.fit(x_train,y_train)\n",
        "  tree.plot_tree(clf)\n",
        "\n",
        "  print(\"Training Accuracy = \", clf.score(x_train,y_train)) #training accuracy\n",
        "  print(\"Testing Accuracy = \", clf.score(x_test,y_test)) #testing accuracy\n",
        "\n",
        "  y_predicted = clf.predict(x_test)\n",
        "  print(\"y_predicted = \", y_predicted)\n",
        "  print(\"y_test = \", y_test)\n",
        "\n",
        "  #sum_training_acc = sum_training_acc + clf.score(X_train,y_train)\n",
        "  #sum_testing_acc = sum_testing_acc + clf.score(X_test,y_test)\n",
        "\n",
        "  lst_train.append(clf.score(x_train,y_train))\n",
        "  lst_test.append(clf.score(x_test,y_test))\n",
        "\n",
        "print(\"Average Training Accuracy = \", sum(lst_train)/10)\n",
        "print(\"Average Testing Accuracy = \", sum(lst_test)/10)\n",
        "\n",
        "print('Standard deviation of training accuracies = ', stdev(lst_train))\n",
        "print('Standard deviation of testing accuracies = ', stdev(lst_test))"
      ]
    },
    {
      "cell_type": "code",
      "execution_count": null,
      "metadata": {
        "colab": {
          "base_uri": "https://localhost:8080/",
          "height": 321
        },
        "id": "QOmBiv54PvFA",
        "outputId": "e78e9c28-0b07-4931-b19d-1d64b609eadf"
      },
      "outputs": [
        {
          "name": "stdout",
          "output_type": "stream",
          "text": [
            "Training Accuracy =  0.9192431904066749\n",
            "Testing Accuracy =  0.9187611003922671\n",
            "y_predicted =  [0 0 0 ... 0 1 1]\n",
            "y_test =  [0 0 0 ... 0 1 0]\n"
          ]
        },
        {
          "data": {
            "image/png": "[encoded data removed]",
            "text/plain": [
              "<Figure size 432x288 with 1 Axes>"
            ]
          },
          "metadata": {},
          "output_type": "display_data"
        }
      ],
      "source": [
        "clf = DecisionTreeClassifier(criterion = \"entropy\")\n",
        "\n",
        "[x_train, x_test, y_train, y_test] = train_test_split(data_features_np, data_labels_np, test_size=0.2)\n",
        "\n",
        "clf.fit(x_train,y_train)\n",
        "tree.plot_tree(clf)\n",
        "\n",
        "print(\"Training Accuracy = \", clf.score(x_train,y_train)) #training accuracy\n",
        "print(\"Testing Accuracy = \", clf.score(x_test,y_test)) #testing accuracy\n",
        "\n",
        "y_predicted = clf.predict(x_test)\n",
        "print(\"y_predicted = \", y_predicted)\n",
        "print(\"y_test = \", y_test)"
      ]
    },
    {
      "cell_type": "code",
      "execution_count": null,
      "metadata": {
        "id": "nO11_QWOribA"
      },
      "outputs": [],
      "source": [
        "results_dict_train = {}\n",
        "results_dict_test = {}"
      ]
    },
    {
      "cell_type": "code",
      "execution_count": null,
      "metadata": {
        "colab": {
          "base_uri": "https://localhost:8080/",
          "height": 321
        },
        "id": "X5qmSolSXq9y",
        "outputId": "0e9b11df-70c3-4c38-8c61-bd5fb1d7a175"
      },
      "outputs": [
        {
          "name": "stdout",
          "output_type": "stream",
          "text": [
            "Training Accuracy =  0.9192431904066749\n",
            "Testing Accuracy =  0.9187611003922671\n",
            "y_predicted =  [0 0 0 ... 0 1 1]\n",
            "y_test =  [0 0 0 ... 0 1 0]\n"
          ]
        },
        {
          "data": {
            "image/png": "[encoded data removed]",
            "text/plain": [
              "<Figure size 432x288 with 1 Axes>"
            ]
          },
          "metadata": {},
          "output_type": "display_data"
        }
      ],
      "source": [
        "clf = DecisionTreeClassifier(criterion = \"gini\")\n",
        "\n",
        "clf.fit(x_train,y_train)\n",
        "tree.plot_tree(clf)\n",
        "\n",
        "print(\"Training Accuracy = \", clf.score(x_train,y_train)) #training accuracy\n",
        "print(\"Testing Accuracy = \", clf.score(x_test,y_test)) #testing accuracy\n",
        "\n",
        "y_predicted = clf.predict(x_test)\n",
        "print(\"y_predicted = \", y_predicted)\n",
        "print(\"y_test = \", y_test)\n",
        "\n",
        "results_dict_train[2] = clf.score(x_train,y_train)*100\n",
        "results_dict_test[2] = clf.score(x_test,y_test)*100"
      ]
    },
    {
      "cell_type": "code",
      "execution_count": null,
      "metadata": {
        "colab": {
          "base_uri": "https://localhost:8080/"
        },
        "id": "aiYsJ9DfW9Py",
        "outputId": "56ea1cba-fec1-42ec-bfcb-25ed82845a73"
      },
      "outputs": [
        {
          "data": {
            "text/plain": [
              "626102"
            ]
          },
          "execution_count": 32,
          "metadata": {},
          "output_type": "execute_result"
        }
      ],
      "source": [
        "len(x_train)"
      ]
    },
    {
      "cell_type": "code",
      "execution_count": null,
      "metadata": {
        "colab": {
          "base_uri": "https://localhost:8080/",
          "height": 321
        },
        "id": "jSViDSQgWulF",
        "outputId": "43144287-13ce-4482-e9eb-cff24bb9a6f7"
      },
      "outputs": [
        {
          "name": "stdout",
          "output_type": "stream",
          "text": [
            "Training Accuracy =  0.9192208298328387\n",
            "Testing Accuracy =  0.918818598827032\n",
            "y_predicted =  [0 0 0 ... 0 1 1]\n",
            "y_test =  [0 0 0 ... 0 1 0]\n"
          ]
        },
        {
          "data": {
            "image/png": "[encoded data removed]",
            "text/plain": [
              "<Figure size 432x288 with 1 Axes>"
            ]
          },
          "metadata": {},
          "output_type": "display_data"
        }
      ],
      "source": [
        "clf = DecisionTreeClassifier(min_samples_split=100)\n",
        "\n",
        "clf.fit(x_train,y_train)\n",
        "tree.plot_tree(clf)\n",
        "\n",
        "print(\"Training Accuracy = \", clf.score(x_train,y_train)) #training accuracy\n",
        "print(\"Testing Accuracy = \", clf.score(x_test,y_test)) #testing accuracy\n",
        "\n",
        "y_predicted = clf.predict(x_test)\n",
        "print(\"y_predicted = \", y_predicted)\n",
        "print(\"y_test = \", y_test)\n",
        "\n",
        "results_dict_train[100] = clf.score(x_train,y_train)*100\n",
        "results_dict_test[100] = clf.score(x_test,y_test)*100"
      ]
    },
    {
      "cell_type": "code",
      "execution_count": null,
      "metadata": {
        "colab": {
          "base_uri": "https://localhost:8080/",
          "height": 321
        },
        "id": "1ZnRvQXWXTfE",
        "outputId": "ad98a2bb-d55d-47ac-c51c-f1f1134afb78"
      },
      "outputs": [
        {
          "name": "stdout",
          "output_type": "stream",
          "text": [
            "Training Accuracy =  0.9191824974205481\n",
            "Testing Accuracy =  0.918818598827032\n",
            "y_predicted =  [0 0 0 ... 0 1 1]\n",
            "y_test =  [0 0 0 ... 0 1 0]\n"
          ]
        },
        {
          "data": {
            "image/png": "[encoded data removed]",
            "text/plain": [
              "<Figure size 432x288 with 1 Axes>"
            ]
          },
          "metadata": {},
          "output_type": "display_data"
        }
      ],
      "source": [
        "clf = DecisionTreeClassifier(min_samples_split=1000)\n",
        "\n",
        "clf.fit(x_train,y_train)\n",
        "tree.plot_tree(clf)\n",
        "\n",
        "print(\"Training Accuracy = \", clf.score(x_train,y_train)) #training accuracy\n",
        "print(\"Testing Accuracy = \", clf.score(x_test,y_test)) #testing accuracy\n",
        "\n",
        "y_predicted = clf.predict(x_test)\n",
        "print(\"y_predicted = \", y_predicted)\n",
        "print(\"y_test = \", y_test)\n",
        "\n",
        "results_dict_train[1000] = clf.score(x_train,y_train)*100\n",
        "results_dict_test[1000] = clf.score(x_test,y_test)*100"
      ]
    },
    {
      "cell_type": "code",
      "execution_count": null,
      "metadata": {
        "colab": {
          "base_uri": "https://localhost:8080/",
          "height": 321
        },
        "id": "96Ex5QlrYEhb",
        "outputId": "a6055085-af8a-47e2-bc9f-78311fbc1b99"
      },
      "outputs": [
        {
          "name": "stdout",
          "output_type": "stream",
          "text": [
            "Training Accuracy =  0.9192192326489933\n",
            "Testing Accuracy =  0.918818598827032\n",
            "y_predicted =  [0 0 0 ... 0 1 1]\n",
            "y_test =  [0 0 0 ... 0 1 0]\n"
          ]
        },
        {
          "data": {
            "image/png": "[encoded data removed]",
            "text/plain": [
              "<Figure size 432x288 with 1 Axes>"
            ]
          },
          "metadata": {},
          "output_type": "display_data"
        }
      ],
      "source": [
        "clf = DecisionTreeClassifier(min_samples_split=500)\n",
        "\n",
        "clf.fit(x_train,y_train)\n",
        "tree.plot_tree(clf)\n",
        "\n",
        "print(\"Training Accuracy = \", clf.score(x_train,y_train)) #training accuracy\n",
        "print(\"Testing Accuracy = \", clf.score(x_test,y_test)) #testing accuracy\n",
        "\n",
        "y_predicted = clf.predict(x_test)\n",
        "print(\"y_predicted = \", y_predicted)\n",
        "print(\"y_test = \", y_test)\n",
        "\n",
        "results_dict_train[500] = clf.score(x_train,y_train)*100\n",
        "results_dict_test[500] = clf.score(x_test,y_test)*100"
      ]
    },
    {
      "cell_type": "code",
      "execution_count": null,
      "metadata": {
        "colab": {
          "base_uri": "https://localhost:8080/",
          "height": 321
        },
        "id": "fGAyYsHzYbSP",
        "outputId": "f29b7244-d6ab-46ee-edb5-79233a1b94de"
      },
      "outputs": [
        {
          "name": "stdout",
          "output_type": "stream",
          "text": [
            "Training Accuracy =  0.9192192326489933\n",
            "Testing Accuracy =  0.918818598827032\n",
            "y_predicted =  [0 0 0 ... 0 1 1]\n",
            "y_test =  [0 0 0 ... 0 1 0]\n"
          ]
        },
        {
          "data": {
            "image/png": "[encoded data removed]",
            "text/plain": [
              "<Figure size 432x288 with 1 Axes>"
            ]
          },
          "metadata": {},
          "output_type": "display_data"
        }
      ],
      "source": [
        "clf = DecisionTreeClassifier(min_samples_split=600)\n",
        "\n",
        "clf.fit(x_train,y_train)\n",
        "tree.plot_tree(clf)\n",
        "\n",
        "print(\"Training Accuracy = \", clf.score(x_train,y_train)) #training accuracy\n",
        "print(\"Testing Accuracy = \", clf.score(x_test,y_test)) #testing accuracy\n",
        "\n",
        "y_predicted = clf.predict(x_test)\n",
        "print(\"y_predicted = \", y_predicted)\n",
        "print(\"y_test = \", y_test)\n",
        "\n",
        "results_dict_train[600] = clf.score(x_train,y_train)*100\n",
        "results_dict_test[600] = clf.score(x_test,y_test)*100"
      ]
    },
    {
      "cell_type": "code",
      "execution_count": null,
      "metadata": {
        "colab": {
          "base_uri": "https://localhost:8080/",
          "height": 321
        },
        "id": "qQc70vctZOBr",
        "outputId": "12d65d65-369b-46d3-adef-b3d60acaa7ec"
      },
      "outputs": [
        {
          "name": "stdout",
          "output_type": "stream",
          "text": [
            "Training Accuracy =  0.9192192326489933\n",
            "Testing Accuracy =  0.918818598827032\n",
            "y_predicted =  [0 0 0 ... 0 1 1]\n",
            "y_test =  [0 0 0 ... 0 1 0]\n"
          ]
        },
        {
          "data": {
            "image/png": "[encoded data removed]",
            "text/plain": [
              "<Figure size 432x288 with 1 Axes>"
            ]
          },
          "metadata": {},
          "output_type": "display_data"
        }
      ],
      "source": [
        "clf = DecisionTreeClassifier(criterion=\"entropy\", min_samples_split=600)\n",
        "\n",
        "clf.fit(x_train,y_train)\n",
        "tree.plot_tree(clf)\n",
        "\n",
        "print(\"Training Accuracy = \", clf.score(x_train,y_train)) #training accuracy\n",
        "print(\"Testing Accuracy = \", clf.score(x_test,y_test)) #testing accuracy\n",
        "\n",
        "y_predicted = clf.predict(x_test)\n",
        "print(\"y_predicted = \", y_predicted)\n",
        "print(\"y_test = \", y_test)"
      ]
    },
    {
      "cell_type": "markdown",
      "metadata": {
        "id": "O3Rwt9qtZV10"
      },
      "source": [
        "Upon splitting the gini-based decision tree based on min_samples_split for the values 1000, 100, 500, and 600, the model with min_samples_split = 600 performed the best based on training and testing accuracy.\n",
        "\n",
        "The model performs the same for both gini and entropy based decision tree \n",
        "classifiers."
      ]
    },
    {
      "cell_type": "code",
      "execution_count": null,
      "metadata": {
        "colab": {
          "base_uri": "https://localhost:8080/",
          "height": 299
        },
        "id": "o0Rm4lxhrXRY",
        "outputId": "1cd444b6-d6f0-4f4c-f883-54022afb26cf"
      },
      "outputs": [
        {
          "data": {
            "text/plain": [
              "<matplotlib.axes._subplots.AxesSubplot at 0x7f44d910f990>"
            ]
          },
          "execution_count": 38,
          "metadata": {},
          "output_type": "execute_result"
        },
        {
          "data": {
            "image/png": "[encoded data removed]",
            "text/plain": [
              "<Figure size 432x288 with 1 Axes>"
            ]
          },
          "metadata": {},
          "output_type": "display_data"
        }
      ],
      "source": [
        "results_df_train = pd.Series(data=results_dict_train.values(), index=results_dict_train.keys())\n",
        "results_df_train = results_df_train.sort_index()\n",
        "results_df_train.plot(xlabel=\"min_samples_split\", ylabel=\"Training Accuracy\")"
      ]
    },
    {
      "cell_type": "code",
      "execution_count": null,
      "metadata": {
        "colab": {
          "base_uri": "https://localhost:8080/",
          "height": 299
        },
        "id": "D4EmtHFfvYOT",
        "outputId": "2a6764dc-3bb6-4caf-cd59-08976b6c9621"
      },
      "outputs": [
        {
          "data": {
            "text/plain": [
              "<matplotlib.axes._subplots.AxesSubplot at 0x7f44d87d4750>"
            ]
          },
          "execution_count": 39,
          "metadata": {},
          "output_type": "execute_result"
        },
        {
          "data": {
            "image/png": "[encoded data removed]",
            "text/plain": [
              "<Figure size 432x288 with 1 Axes>"
            ]
          },
          "metadata": {},
          "output_type": "display_data"
        }
      ],
      "source": [
        "results_df_test = pd.Series(data=results_dict_test.values(), index=results_dict_test.keys())\n",
        "results_df_test = results_df_test.sort_index()\n",
        "results_df_test.plot(xlabel=\"min_samples_split\", ylabel=\"Testing Accuracy\")"
      ]
    },
    {
      "cell_type": "markdown",
      "metadata": {
        "id": "htPhyWTYW7t3"
      },
      "source": [
        "# **KNN**"
      ]
    },
    {
      "cell_type": "code",
      "execution_count": null,
      "metadata": {
        "colab": {
          "base_uri": "https://localhost:8080/"
        },
        "id": "VixNGe_pOhHP",
        "outputId": "0fb76d21-4f49-4988-b1e5-b2039fc89e36"
      },
      "outputs": [
        {
          "data": {
            "text/plain": [
              "KNeighborsClassifier(n_neighbors=100)"
            ]
          },
          "execution_count": 40,
          "metadata": {},
          "output_type": "execute_result"
        }
      ],
      "source": [
        "from sklearn.neighbors import KNeighborsClassifier\n",
        "knn= KNeighborsClassifier(n_neighbors = 100)\n",
        "knn.fit(x_train,y_train)"
      ]
    },
    {
      "cell_type": "code",
      "execution_count": null,
      "metadata": {
        "colab": {
          "base_uri": "https://localhost:8080/"
        },
        "id": "USzXkGL3SWyg",
        "outputId": "61988d4b-99a6-40d7-afca-46d4a7cceb29"
      },
      "outputs": [
        {
          "data": {
            "text/plain": [
              "array([0, 0, 0, ..., 0, 1, 1])"
            ]
          },
          "execution_count": 41,
          "metadata": {},
          "output_type": "execute_result"
        }
      ],
      "source": [
        "y_pred=knn.predict (x_test)\n",
        "y_pred"
      ]
    },
    {
      "cell_type": "code",
      "execution_count": null,
      "metadata": {
        "colab": {
          "base_uri": "https://localhost:8080/"
        },
        "id": "Mjg-9OYtSZsg",
        "outputId": "67a0bc18-033f-4e78-8902-d61319937289"
      },
      "outputs": [
        {
          "name": "stdout",
          "output_type": "stream",
          "text": [
            "Training F1-score =  0.9187720211722691\n",
            "Testing F1-score =  0.9184352759285997\n"
          ]
        }
      ],
      "source": [
        "print(\"Training F1-score = \", knn.score(x_train,y_train))\n",
        "print(\"Testing F1-score = \", knn.score(x_test,y_test))\n",
        "#Support: Number of occurances of of y_true"
      ]
    },
    {
      "cell_type": "code",
      "execution_count": null,
      "metadata": {
        "colab": {
          "base_uri": "https://localhost:8080/"
        },
        "id": "-Hti4YwpTs37",
        "outputId": "758b1152-2e6d-4e1f-f9da-4c3b3caa3c91"
      },
      "outputs": [
        {
          "name": "stdout",
          "output_type": "stream",
          "text": [
            "              precision    recall  f1-score   support\n",
            "\n",
            "    COVID -        0.93      0.98      0.96    140032\n",
            "    COVID +        0.68      0.42      0.52     16494\n",
            "\n",
            "    accuracy                           0.92    156526\n",
            "   macro avg       0.81      0.70      0.74    156526\n",
            "weighted avg       0.91      0.92      0.91    156526\n",
            "\n"
          ]
        }
      ],
      "source": [
        "from sklearn.metrics import classification_report\n",
        "target_names = ['COVID - ', 'COVID + ']#optional\n",
        "print(classification_report(y_test, y_pred, target_names=target_names))"
      ]
    },
    {
      "cell_type": "code",
      "execution_count": null,
      "metadata": {
        "colab": {
          "base_uri": "https://localhost:8080/"
        },
        "id": "rMTHALXrT9it",
        "outputId": "c6906517-c868-4e13-eeb0-a01ee2b4e1d8"
      },
      "outputs": [
        {
          "data": {
            "text/plain": [
              "array([[136825,   3207],\n",
              "       [  9560,   6934]])"
            ]
          },
          "execution_count": 44,
          "metadata": {},
          "output_type": "execute_result"
        }
      ],
      "source": [
        "from sklearn.metrics import confusion_matrix \n",
        "confusion_matrix(y_test,y_pred)"
      ]
    },
    {
      "cell_type": "code",
      "execution_count": null,
      "metadata": {
        "colab": {
          "base_uri": "https://localhost:8080/",
          "height": 297
        },
        "id": "jRUs-uOZT_MB",
        "outputId": "e69b6275-21c0-4564-f0ab-3e2bd9509e32"
      },
      "outputs": [
        {
          "data": {
            "text/plain": [
              "<sklearn.metrics._plot.confusion_matrix.ConfusionMatrixDisplay at 0x7f44d8708f50>"
            ]
          },
          "execution_count": 45,
          "metadata": {},
          "output_type": "execute_result"
        },
        {
          "data": {
            "image/png": "[encoded data removed]",
            "text/plain": [
              "<Figure size 432x288 with 2 Axes>"
            ]
          },
          "metadata": {},
          "output_type": "display_data"
        }
      ],
      "source": [
        "from sklearn.metrics import ConfusionMatrixDisplay\n",
        "\n",
        "cm = confusion_matrix(y_test,y_pred)\n",
        "disp = ConfusionMatrixDisplay(confusion_matrix = cm, display_labels= knn.classes_)\n",
        "disp.plot()"
      ]
    },
    {
      "cell_type": "code",
      "execution_count": null,
      "metadata": {
        "id": "4ng7S9NzUCUo"
      },
      "outputs": [],
      "source": [
        "from sklearn import metrics \n",
        "fpr, tpr, thresholds = metrics.roc_curve(y_test, y_pred, pos_label=1) #pos_label is the label for the positive class\n",
        "#remember if you have a multi-class problem, the class of interest will be considered the positive class and the rest are negatives"
      ]
    },
    {
      "cell_type": "code",
      "execution_count": null,
      "metadata": {
        "colab": {
          "base_uri": "https://localhost:8080/"
        },
        "id": "DGYR8eNtUEAV",
        "outputId": "9da9275b-488f-4fd2-8c16-2261903f0c9e"
      },
      "outputs": [
        {
          "data": {
            "text/plain": [
              "0.6987466935617994"
            ]
          },
          "execution_count": 47,
          "metadata": {},
          "output_type": "execute_result"
        }
      ],
      "source": [
        "metrics.auc(fpr, tpr)"
      ]
    },
    {
      "cell_type": "code",
      "execution_count": null,
      "metadata": {
        "colab": {
          "base_uri": "https://localhost:8080/",
          "height": 265
        },
        "id": "-qvp0Z3kU7Bt",
        "outputId": "8e48c2af-2f66-4db0-addc-7609cd69768c"
      },
      "outputs": [
        {
          "data": {
            "image/png": "[encoded data removed]",
            "text/plain": [
              "<Figure size 432x288 with 1 Axes>"
            ]
          },
          "metadata": {},
          "output_type": "display_data"
        }
      ],
      "source": [
        "y_pred_proba = clf.predict_proba(x_test)[::,1]\n",
        "\n",
        "fpr, tpr, _ = metrics.roc_curve(y_test,  y_pred_proba)\n",
        "auc = metrics.roc_auc_score(y_test, y_pred_proba)\n",
        "plt.plot(fpr,tpr,label=\"data 1, auc=\"+str(auc))\n",
        "plt.legend(loc=4)\n",
        "plt.show()"
      ]
    },
    {
      "cell_type": "markdown",
      "metadata": {
        "id": "o3w9Z9O2XFvH"
      },
      "source": [
        "# **Naive-Bayes**"
      ]
    },
    {
      "cell_type": "code",
      "execution_count": null,
      "metadata": {
        "colab": {
          "base_uri": "https://localhost:8080/"
        },
        "id": "4X3EDpcAXIYM",
        "outputId": "2a379fa4-6a10-4c2b-ecd2-5b69743aec8e"
      },
      "outputs": [
        {
          "output_type": "execute_result",
          "data": {
            "text/plain": [
              "GaussianNB()"
            ]
          },
          "metadata": {},
          "execution_count": 41
        }
      ],
      "source": [
        "from sklearn.naive_bayes import GaussianNB\n",
        "\n",
        "model = GaussianNB()\n",
        "model.fit(x_train,y_train)"
      ]
    },
    {
      "cell_type": "code",
      "execution_count": null,
      "metadata": {
        "id": "a2oht2C9Xcxk"
      },
      "outputs": [],
      "source": [
        "nn_y_pred = model.predict(x_test)\n",
        "nn_y_pred = nn_y_pred.reshape(-1, 1)"
      ]
    },
    {
      "cell_type": "code",
      "execution_count": null,
      "metadata": {
        "colab": {
          "base_uri": "https://localhost:8080/"
        },
        "id": "kF4of2I2Xm3D",
        "outputId": "baf59a1c-4feb-4eec-d4b3-d1e06998ca4b"
      },
      "outputs": [
        {
          "output_type": "execute_result",
          "data": {
            "text/plain": [
              "0.9133818023842685"
            ]
          },
          "metadata": {},
          "execution_count": 43
        }
      ],
      "source": [
        "model.score(x_test,y_test)"
      ]
    },
    {
      "cell_type": "markdown",
      "metadata": {
        "id": "Ipq8djLohOym"
      },
      "source": [
        "Makes sense for NB to perform worse than decision-trees (although by a small margin) because it takes features to be independent but for example, someone who has fever is likely to have cough and other syptoms simultaneously."
      ]
    },
    {
      "cell_type": "code",
      "execution_count": null,
      "metadata": {
        "colab": {
          "base_uri": "https://localhost:8080/"
        },
        "id": "EtNgiS9UX7Xn",
        "outputId": "dc57c51d-a8b3-4866-b6c3-ee783522caa7"
      },
      "outputs": [
        {
          "name": "stdout",
          "output_type": "stream",
          "text": [
            "Misclassfication rate =  0.08686096878473859\n"
          ]
        }
      ],
      "source": [
        "Misclassfication_Rate = 1 - model.score(x_test,y_test)\n",
        "print(\"Misclassfication rate = \", Misclassfication_Rate)"
      ]
    },
    {
      "cell_type": "markdown",
      "metadata": {
        "id": "dbc1uUlzhojW"
      },
      "source": [
        "# PUT MISCLASSIFICATION RATE FOR ALL OTHER MODELS"
      ]
    },
    {
      "cell_type": "markdown",
      "metadata": {
        "id": "Nw8JQnSLYAR_"
      },
      "source": [
        "# **SVM**"
      ]
    },
    {
      "cell_type": "code",
      "source": [
        "from sklearn.svm import SVC\n",
        "from sklearn.metrics import classification_report\n",
        "from sklearn.svm import LinearSVC\n",
        "from sklearn.svm import SVC\n",
        "from sklearn.model_selection import GridSearchCV\n",
        "\n",
        "\n",
        "tuned_parameters = [\n",
        "    {\"kernel\": [\"rbf\"], \"gamma\": [1e-3, 1e-4], \"C\": [1, 10,100]},\n",
        "    {\"kernel\": [\"linear\"],  \"C\": [1, 10, 50,100]},\n",
        "    {\"kernel\": [\"poly\"], \"degree\": [2,4,6,8,10], \"C\": [1, 10,100]},\n",
        "]\n",
        "\n",
        "scores = [\"f1\"]\n",
        "\n",
        "for score in scores:\n",
        "    print(\"#Tuning hyper-parameters in linear,SVM and RBF to find opitmal SVM model using %s as the metric\" % score)\n",
        "    print()\n",
        "\n",
        "    clf = GridSearchCV(SVC(), tuned_parameters, scoring=\"%s_macro\" % score)\n",
        "    clf.fit(x_train, y_train)\n",
        "\n",
        "    print(\"Best parameters set found on training set:\")\n",
        "    print()\n",
        "    print(clf.best_params_)\n",
        "    print()\n",
        "    print(\"Grid scores : \")\n",
        "    print()\n",
        "    means = clf.cv_results_[\"mean_test_score\"]\n",
        "    stds = clf.cv_results_[\"std_test_score\"]\n",
        "    for mean, std, params in zip(means, stds, clf.cv_results_[\"params\"]):\n",
        "        print(\"%0.3f (+/-%0.03f) for %r\" % (mean, std * 2, params))\n",
        "    print()\n",
        "\n",
        "    print(\"Detailed classification report:\")\n",
        "    print()\n",
        "    print(\"The model is trained on the training set\")\n",
        "    print(\"The testing set scores for the optimal SVM model are computed \")\n",
        "    print()\n",
        "    y_true, y_pred = y_test, clf.predict(x_test)\n",
        "    print(classification_report(y_true, y_pred))\n",
        "    print()"
      ],
      "metadata": {
        "colab": {
          "base_uri": "https://localhost:8080/"
        },
        "id": "X8qY7fsg2OmI",
        "outputId": "232fe0b0-827a-4e99-ec13-c0f3b028fb6a"
      },
      "execution_count": null,
      "outputs": [
        {
          "output_type": "stream",
          "name": "stdout",
          "text": [
            "#Tuning hyper-parameters in linear,SVM and RBF to find opitmal SVM model using f1 as the metric\n",
            "\n",
            "Best parameters set found on training set:\n",
            "\n",
            "{'C': 1, 'gamma': 0.001, 'kernel': 'rbf'}\n",
            "\n",
            "Grid scores : \n",
            "\n",
            "0.775 (+/-0.552) for {'C': 1, 'gamma': 0.001, 'kernel': 'rbf'}\n",
            "0.775 (+/-0.552) for {'C': 1, 'gamma': 0.0001, 'kernel': 'rbf'}\n",
            "0.775 (+/-0.552) for {'C': 10, 'gamma': 0.001, 'kernel': 'rbf'}\n",
            "0.775 (+/-0.552) for {'C': 10, 'gamma': 0.0001, 'kernel': 'rbf'}\n",
            "0.775 (+/-0.552) for {'C': 100, 'gamma': 0.001, 'kernel': 'rbf'}\n",
            "0.775 (+/-0.552) for {'C': 100, 'gamma': 0.0001, 'kernel': 'rbf'}\n",
            "0.660 (+/-0.555) for {'C': 1, 'kernel': 'linear'}\n",
            "0.660 (+/-0.555) for {'C': 10, 'kernel': 'linear'}\n",
            "0.660 (+/-0.555) for {'C': 50, 'kernel': 'linear'}\n",
            "0.660 (+/-0.555) for {'C': 100, 'kernel': 'linear'}\n",
            "0.775 (+/-0.552) for {'C': 1, 'degree': 2, 'kernel': 'poly'}\n",
            "0.775 (+/-0.552) for {'C': 1, 'degree': 4, 'kernel': 'poly'}\n",
            "0.775 (+/-0.552) for {'C': 1, 'degree': 6, 'kernel': 'poly'}\n",
            "0.775 (+/-0.552) for {'C': 1, 'degree': 8, 'kernel': 'poly'}\n",
            "0.775 (+/-0.552) for {'C': 1, 'degree': 10, 'kernel': 'poly'}\n",
            "0.775 (+/-0.552) for {'C': 10, 'degree': 2, 'kernel': 'poly'}\n",
            "0.775 (+/-0.552) for {'C': 10, 'degree': 4, 'kernel': 'poly'}\n",
            "0.775 (+/-0.552) for {'C': 10, 'degree': 6, 'kernel': 'poly'}\n",
            "0.775 (+/-0.552) for {'C': 10, 'degree': 8, 'kernel': 'poly'}\n",
            "0.775 (+/-0.552) for {'C': 10, 'degree': 10, 'kernel': 'poly'}\n",
            "0.775 (+/-0.552) for {'C': 100, 'degree': 2, 'kernel': 'poly'}\n",
            "0.775 (+/-0.552) for {'C': 100, 'degree': 4, 'kernel': 'poly'}\n",
            "0.775 (+/-0.552) for {'C': 100, 'degree': 6, 'kernel': 'poly'}\n",
            "0.775 (+/-0.552) for {'C': 100, 'degree': 8, 'kernel': 'poly'}\n",
            "0.775 (+/-0.552) for {'C': 100, 'degree': 10, 'kernel': 'poly'}\n",
            "\n",
            "Detailed classification report:\n",
            "\n",
            "The model is trained on the training set\n"
          ]
        },
        {
          "output_type": "stream",
          "name": "stderr",
          "text": [
            "/usr/local/lib/python3.7/dist-packages/sklearn/model_selection/_split.py:680: UserWarning: The least populated class in y has only 2 members, which is less than n_splits=5.\n",
            "  UserWarning,\n"
          ]
        },
        {
          "output_type": "stream",
          "name": "stdout",
          "text": [
            "The testing set scores for the optimal SVM model are computed \n",
            "\n",
            "              precision    recall  f1-score   support\n",
            "\n",
            "           0       0.95      1.00      0.98        20\n",
            "           1       0.00      0.00      0.00         1\n",
            "\n",
            "    accuracy                           0.95        21\n",
            "   macro avg       0.48      0.50      0.49        21\n",
            "weighted avg       0.91      0.95      0.93        21\n",
            "\n",
            "\n"
          ]
        },
        {
          "output_type": "stream",
          "name": "stderr",
          "text": [
            "/usr/local/lib/python3.7/dist-packages/sklearn/metrics/_classification.py:1318: UndefinedMetricWarning: Precision and F-score are ill-defined and being set to 0.0 in labels with no predicted samples. Use `zero_division` parameter to control this behavior.\n",
            "  _warn_prf(average, modifier, msg_start, len(result))\n",
            "/usr/local/lib/python3.7/dist-packages/sklearn/metrics/_classification.py:1318: UndefinedMetricWarning: Precision and F-score are ill-defined and being set to 0.0 in labels with no predicted samples. Use `zero_division` parameter to control this behavior.\n",
            "  _warn_prf(average, modifier, msg_start, len(result))\n",
            "/usr/local/lib/python3.7/dist-packages/sklearn/metrics/_classification.py:1318: UndefinedMetricWarning: Precision and F-score are ill-defined and being set to 0.0 in labels with no predicted samples. Use `zero_division` parameter to control this behavior.\n",
            "  _warn_prf(average, modifier, msg_start, len(result))\n"
          ]
        }
      ]
    },
    {
      "cell_type": "code",
      "execution_count": null,
      "metadata": {
        "id": "7UpwN0Y5YD4f",
        "colab": {
          "base_uri": "https://localhost:8080/"
        },
        "outputId": "70b1b4eb-9bab-4345-f6d8-ebe3a743d818"
      },
      "outputs": [
        {
          "output_type": "stream",
          "name": "stdout",
          "text": [
            "0.9523809523809523\n"
          ]
        }
      ],
      "source": [
        "from sklearn.svm import LinearSVC\n",
        "from sklearn.svm import SVC\n",
        "\n",
        "# we create an instance of SVM and fit our data. We do not scale our\n",
        "# data since we want to plot the support vectors\n",
        "C = 1.0 # SVM regularization parameter\n",
        "\n",
        "# try to increase gamma from 1 to 10 to 100\n",
        "\n",
        "# try to increase C from 1 to 100 to 1000\n",
        "\n",
        "# Fitting\n",
        "svc = SVC(kernel='rbf', C=1, gamma=1);\n",
        "\n",
        "svc.fit(x_train, y_train)\n",
        "\n",
        "print (svc.score (x_train, y_train)); # print the trainig score (accuracy)"
      ]
    },
    {
      "cell_type": "code",
      "execution_count": null,
      "metadata": {
        "colab": {
          "background_save": true
        },
        "id": "R5Eg0ZCuh-ki"
      },
      "outputs": [],
      "source": [
        "# create a mesh to plot in\n",
        "x_min, x_max = x_train[:, 0].min() - 1, x_train[:, 0].max() + 1\n",
        "y_min, y_max = x_train[:, 1].min() - 1, x_train[:, 1].max() + 1\n",
        "h = (x_max / x_min)/100\n",
        "\n",
        "xx, yy = np.meshgrid(np.arange(x_min, x_max, h),\n",
        "np.arange(y_min, y_max, h))\n",
        "plt.subplot(1, 1, 1)\n",
        "Z = svc.predict(np.c_[xx.ravel(), yy.ravel()])\n",
        "Z = Z.reshape(xx.shape)\n",
        "\n",
        "plt.contourf(xx, yy, Z, cmap=plt.cm.Paired, alpha=0.8)\n",
        "plt.scatter(x_train[:, 0], x_train[:, 1], c=y_train, cmap=plt.cm.Paired)\n",
        "\n",
        "plt.xlabel('Sepal length')\n",
        "plt.ylabel('Sepal width')\n",
        "plt.xlim(xx.min(), xx.max())\n",
        "plt.title('SVC')\n",
        "plt.show()"
      ]
    },
    {
      "cell_type": "markdown",
      "source": [
        "# **FEATURE SELECTION**"
      ],
      "metadata": {
        "id": "zXzpxRIFN_VB"
      }
    },
    {
      "cell_type": "code",
      "source": [
        "from sklearn import datasets, metrics\n",
        "from sklearn.feature_selection import SelectKBest, SelectPercentile, chi2, f_classif,f_regression\n",
        "from sklearn.model_selection import train_test_split"
      ],
      "metadata": {
        "id": "EmKFzjdRNkU4"
      },
      "execution_count": null,
      "outputs": []
    },
    {
      "cell_type": "code",
      "source": [
        "### You can perform feature selection here using:\n",
        "#1) SelectKBest\n",
        "x_train_new = SelectKBest(chi2, k=5).fit_transform(x_train, y_train)\n",
        "print(\"Dataset size after feature selection is: \", x_train_new.shape)"
      ],
      "metadata": {
        "colab": {
          "base_uri": "https://localhost:8080/"
        },
        "id": "KOidVZBxOcxK",
        "outputId": "7791e15a-0ce9-41bf-caa4-1640f179fd96"
      },
      "execution_count": null,
      "outputs": [
        {
          "output_type": "stream",
          "name": "stdout",
          "text": [
            "Dataset size after feature selection is:  (626102, 5)\n"
          ]
        }
      ]
    },
    {
      "cell_type": "markdown",
      "source": [
        "Value of k should be less than total number of features and >0"
      ],
      "metadata": {
        "id": "9Rb6mGg8S35D"
      }
    },
    {
      "cell_type": "code",
      "source": [
        "#2) SelectPercentile\n",
        "x_train_new_2 = SelectPercentile(chi2, percentile=80).fit_transform(x_train, y_train)\n",
        "print(\"Dataset size after feature selection is: \", x_train_new_2.shape)"
      ],
      "metadata": {
        "colab": {
          "base_uri": "https://localhost:8080/"
        },
        "id": "5-6qI-k9O1Hd",
        "outputId": "4405fbb5-adcf-46b5-bece-033fb912612c"
      },
      "execution_count": null,
      "outputs": [
        {
          "output_type": "stream",
          "name": "stdout",
          "text": [
            "Dataset size after feature selection is:  (626102, 6)\n"
          ]
        }
      ]
    },
    {
      "cell_type": "markdown",
      "source": [
        "Since we have only 7 features, percentile is taken as 80."
      ],
      "metadata": {
        "id": "lr8G_CF5S-cl"
      }
    },
    {
      "cell_type": "code",
      "source": [
        "#Split arrays or matrices into random train and test subsets\n",
        "features_train, features_test, labels_train, labels_test = train_test_split(x_train_new, y_train, test_size=0.70, random_state=0)\n",
        "\n",
        "#Perform classification\n",
        "from sklearn.svm import SVC\n",
        "clf = SVC(kernel = \"rbf\",gamma=0.001)\n",
        "\n",
        "# We learn the digits on the first half of the digits\n",
        "clf.fit(features_train, labels_train)\n",
        "\n",
        "# Now predict the value of the digit on the second half:\n",
        "predicted = clf.predict(features_test)\n",
        "#print (clf.score (features_test, labels_test));# print the prediction score(accuracy)\n",
        "\n",
        "print(\"Classification report for classifier %s:\\n%s\\n\"\n",
        "      % (clf, metrics.classification_report(labels_test, predicted)))\n",
        "print(\"Confusion matrix:\\n%s\" % metrics.confusion_matrix (labels_test, predicted))"
      ],
      "metadata": {
        "colab": {
          "base_uri": "https://localhost:8080/"
        },
        "id": "d4iIlTkDPBQg",
        "outputId": "20129977-67cb-4c8b-fc33-029f6e54e668"
      },
      "execution_count": null,
      "outputs": [
        {
          "output_type": "stream",
          "name": "stdout",
          "text": [
            "Classification report for classifier SVC(gamma=0.001):\n",
            "              precision    recall  f1-score   support\n",
            "\n",
            "           0       0.92      0.99      0.95    392265\n",
            "           1       0.74      0.28      0.41     46007\n",
            "\n",
            "    accuracy                           0.91    438272\n",
            "   macro avg       0.83      0.64      0.68    438272\n",
            "weighted avg       0.90      0.91      0.90    438272\n",
            "\n",
            "\n",
            "Confusion matrix:\n",
            "[[387625   4640]\n",
            " [ 33026  12981]]\n"
          ]
        }
      ]
    },
    {
      "cell_type": "code",
      "source": [
        "#Split arrays or matrices into random train and test subsets\n",
        "features_train, features_test, labels_train, labels_test = train_test_split(x_train_new_2, y_train, test_size=0.70, random_state=0)\n",
        "\n",
        "#Perform classification\n",
        "from sklearn.svm import SVC\n",
        "clf = SVC(kernel = \"rbf\",gamma=0.001)\n",
        "\n",
        "# We learn the digits on the first half of the digits\n",
        "clf.fit(features_train, labels_train)\n",
        "\n",
        "# Now predict the value of the digit on the second half:\n",
        "predicted = clf.predict(features_test)\n",
        "#print (clf.score (features_test, labels_test));# print the prediction score(accuracy)\n",
        "\n",
        "print(\"Classification report for classifier %s:\\n%s\\n\"\n",
        "      % (clf, metrics.classification_report(labels_test, predicted)))\n",
        "print(\"Confusion matrix:\\n%s\" % metrics.confusion_matrix (labels_test, predicted))"
      ],
      "metadata": {
        "id": "Mj2HRRqIPK65"
      },
      "execution_count": null,
      "outputs": []
    }
  ],
  "metadata": {
    "accelerator": "GPU",
    "colab": {
      "collapsed_sections": [],
      "name": "CMP_466_Project.ipynb",
      "provenance": []
    },
    "kernelspec": {
      "display_name": "Python 3",
      "name": "python3"
    },
    "language_info": {
      "name": "python"
    }
  },
  "nbformat": 4,
  "nbformat_minor": 0
}